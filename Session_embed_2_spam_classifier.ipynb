{
  "nbformat": 4,
  "nbformat_minor": 0,
  "metadata": {
    "colab": {
      "name": "Session_embed_2_spam_classifier.ipynb",
      "provenance": [],
      "authorship_tag": "ABX9TyMR0VHvWc+sB/gNFiq7dtH7",
      "include_colab_link": true
    },
    "kernelspec": {
      "name": "python3",
      "display_name": "Python 3"
    }
  },
  "cells": [
    {
      "cell_type": "markdown",
      "metadata": {
        "id": "view-in-github",
        "colab_type": "text"
      },
      "source": [
        "<a href=\"https://colab.research.google.com/github/raviyk/recommendersys/blob/movielens/Session_embed_2_spam_classifier.ipynb\" target=\"_parent\"><img src=\"https://colab.research.google.com/assets/colab-badge.svg\" alt=\"Open In Colab\"/></a>"
      ]
    },
    {
      "cell_type": "code",
      "metadata": {
        "id": "k1JTQwzHgYEX",
        "colab_type": "code",
        "colab": {
          "base_uri": "https://localhost:8080/",
          "height": 33
        },
        "outputId": "68b4da7c-8516-4f6b-8fd1-e6ffb67fa158"
      },
      "source": [
        "import tensorflow as tf\n",
        "print(tf.__version__)"
      ],
      "execution_count": 18,
      "outputs": [
        {
          "output_type": "stream",
          "text": [
            "2.3.0\n"
          ],
          "name": "stdout"
        }
      ]
    },
    {
      "cell_type": "code",
      "metadata": {
        "id": "U6_PHLTZgnL7",
        "colab_type": "code",
        "colab": {}
      },
      "source": [
        "import numpy as np\n",
        "import pandas as pd\n",
        "import matplotlib.pyplot as plt\n",
        "from sklearn.model_selection import train_test_split\n",
        "\n",
        "from tensorflow.keras.preprocessing.text import Tokenizer\n",
        "from tensorflow.keras.preprocessing.sequence import pad_sequences \n",
        "from tensorflow.keras.layers import Dense, Input, GlobalMaxPooling1D\n",
        "from tensorflow.keras.layers import LSTM, Embedding\n",
        "from tensorflow.keras.models import Model"
      ],
      "execution_count": 19,
      "outputs": []
    },
    {
      "cell_type": "code",
      "metadata": {
        "id": "o1dS-3r0hdto",
        "colab_type": "code",
        "colab": {
          "base_uri": "https://localhost:8080/",
          "height": 201
        },
        "outputId": "57bb539f-61b7-415c-a2fa-b2af2c2ebd8b"
      },
      "source": [
        "!wget https://lazyprogrammer.me/course_files/spam.csv"
      ],
      "execution_count": 20,
      "outputs": [
        {
          "output_type": "stream",
          "text": [
            "--2020-08-28 11:01:04--  https://lazyprogrammer.me/course_files/spam.csv\n",
            "Resolving lazyprogrammer.me (lazyprogrammer.me)... 172.67.213.166, 104.31.80.48, 104.31.81.48, ...\n",
            "Connecting to lazyprogrammer.me (lazyprogrammer.me)|172.67.213.166|:443... connected.\n",
            "HTTP request sent, awaiting response... 200 OK\n",
            "Length: 503663 (492K) [text/csv]\n",
            "Saving to: ‘spam.csv.1’\n",
            "\n",
            "\rspam.csv.1            0%[                    ]       0  --.-KB/s               \rspam.csv.1          100%[===================>] 491.86K  --.-KB/s    in 0.04s   \n",
            "\n",
            "2020-08-28 11:01:04 (13.7 MB/s) - ‘spam.csv.1’ saved [503663/503663]\n",
            "\n"
          ],
          "name": "stdout"
        }
      ]
    },
    {
      "cell_type": "code",
      "metadata": {
        "id": "59X9Q4hYh7TT",
        "colab_type": "code",
        "colab": {}
      },
      "source": [
        "df = pd.read_csv('spam.csv', encoding='ISO-8859-1')"
      ],
      "execution_count": 21,
      "outputs": []
    },
    {
      "cell_type": "code",
      "metadata": {
        "id": "uVuthVwfiMee",
        "colab_type": "code",
        "colab": {
          "base_uri": "https://localhost:8080/",
          "height": 196
        },
        "outputId": "893a282c-0b3e-4f39-e484-e87f8de635e0"
      },
      "source": [
        "df.head()"
      ],
      "execution_count": 22,
      "outputs": [
        {
          "output_type": "execute_result",
          "data": {
            "text/html": [
              "<div>\n",
              "<style scoped>\n",
              "    .dataframe tbody tr th:only-of-type {\n",
              "        vertical-align: middle;\n",
              "    }\n",
              "\n",
              "    .dataframe tbody tr th {\n",
              "        vertical-align: top;\n",
              "    }\n",
              "\n",
              "    .dataframe thead th {\n",
              "        text-align: right;\n",
              "    }\n",
              "</style>\n",
              "<table border=\"1\" class=\"dataframe\">\n",
              "  <thead>\n",
              "    <tr style=\"text-align: right;\">\n",
              "      <th></th>\n",
              "      <th>v1</th>\n",
              "      <th>v2</th>\n",
              "      <th>Unnamed: 2</th>\n",
              "      <th>Unnamed: 3</th>\n",
              "      <th>Unnamed: 4</th>\n",
              "    </tr>\n",
              "  </thead>\n",
              "  <tbody>\n",
              "    <tr>\n",
              "      <th>0</th>\n",
              "      <td>ham</td>\n",
              "      <td>Go until jurong point, crazy.. Available only ...</td>\n",
              "      <td>NaN</td>\n",
              "      <td>NaN</td>\n",
              "      <td>NaN</td>\n",
              "    </tr>\n",
              "    <tr>\n",
              "      <th>1</th>\n",
              "      <td>ham</td>\n",
              "      <td>Ok lar... Joking wif u oni...</td>\n",
              "      <td>NaN</td>\n",
              "      <td>NaN</td>\n",
              "      <td>NaN</td>\n",
              "    </tr>\n",
              "    <tr>\n",
              "      <th>2</th>\n",
              "      <td>spam</td>\n",
              "      <td>Free entry in 2 a wkly comp to win FA Cup fina...</td>\n",
              "      <td>NaN</td>\n",
              "      <td>NaN</td>\n",
              "      <td>NaN</td>\n",
              "    </tr>\n",
              "    <tr>\n",
              "      <th>3</th>\n",
              "      <td>ham</td>\n",
              "      <td>U dun say so early hor... U c already then say...</td>\n",
              "      <td>NaN</td>\n",
              "      <td>NaN</td>\n",
              "      <td>NaN</td>\n",
              "    </tr>\n",
              "    <tr>\n",
              "      <th>4</th>\n",
              "      <td>ham</td>\n",
              "      <td>Nah I don't think he goes to usf, he lives aro...</td>\n",
              "      <td>NaN</td>\n",
              "      <td>NaN</td>\n",
              "      <td>NaN</td>\n",
              "    </tr>\n",
              "  </tbody>\n",
              "</table>\n",
              "</div>"
            ],
            "text/plain": [
              "     v1  ... Unnamed: 4\n",
              "0   ham  ...        NaN\n",
              "1   ham  ...        NaN\n",
              "2  spam  ...        NaN\n",
              "3   ham  ...        NaN\n",
              "4   ham  ...        NaN\n",
              "\n",
              "[5 rows x 5 columns]"
            ]
          },
          "metadata": {
            "tags": []
          },
          "execution_count": 22
        }
      ]
    },
    {
      "cell_type": "code",
      "metadata": {
        "id": "SLezZ9APijf-",
        "colab_type": "code",
        "colab": {}
      },
      "source": [
        "df = df.drop(['Unnamed: 2',\t'Unnamed: 3',\t'Unnamed: 4'], axis = 1)"
      ],
      "execution_count": 23,
      "outputs": []
    },
    {
      "cell_type": "code",
      "metadata": {
        "id": "AQWFjf81i1lr",
        "colab_type": "code",
        "colab": {
          "base_uri": "https://localhost:8080/",
          "height": 196
        },
        "outputId": "0b6f1f7e-66ac-4a39-8bf4-4f6077127021"
      },
      "source": [
        "df.head()"
      ],
      "execution_count": 24,
      "outputs": [
        {
          "output_type": "execute_result",
          "data": {
            "text/html": [
              "<div>\n",
              "<style scoped>\n",
              "    .dataframe tbody tr th:only-of-type {\n",
              "        vertical-align: middle;\n",
              "    }\n",
              "\n",
              "    .dataframe tbody tr th {\n",
              "        vertical-align: top;\n",
              "    }\n",
              "\n",
              "    .dataframe thead th {\n",
              "        text-align: right;\n",
              "    }\n",
              "</style>\n",
              "<table border=\"1\" class=\"dataframe\">\n",
              "  <thead>\n",
              "    <tr style=\"text-align: right;\">\n",
              "      <th></th>\n",
              "      <th>v1</th>\n",
              "      <th>v2</th>\n",
              "    </tr>\n",
              "  </thead>\n",
              "  <tbody>\n",
              "    <tr>\n",
              "      <th>0</th>\n",
              "      <td>ham</td>\n",
              "      <td>Go until jurong point, crazy.. Available only ...</td>\n",
              "    </tr>\n",
              "    <tr>\n",
              "      <th>1</th>\n",
              "      <td>ham</td>\n",
              "      <td>Ok lar... Joking wif u oni...</td>\n",
              "    </tr>\n",
              "    <tr>\n",
              "      <th>2</th>\n",
              "      <td>spam</td>\n",
              "      <td>Free entry in 2 a wkly comp to win FA Cup fina...</td>\n",
              "    </tr>\n",
              "    <tr>\n",
              "      <th>3</th>\n",
              "      <td>ham</td>\n",
              "      <td>U dun say so early hor... U c already then say...</td>\n",
              "    </tr>\n",
              "    <tr>\n",
              "      <th>4</th>\n",
              "      <td>ham</td>\n",
              "      <td>Nah I don't think he goes to usf, he lives aro...</td>\n",
              "    </tr>\n",
              "  </tbody>\n",
              "</table>\n",
              "</div>"
            ],
            "text/plain": [
              "     v1                                                 v2\n",
              "0   ham  Go until jurong point, crazy.. Available only ...\n",
              "1   ham                      Ok lar... Joking wif u oni...\n",
              "2  spam  Free entry in 2 a wkly comp to win FA Cup fina...\n",
              "3   ham  U dun say so early hor... U c already then say...\n",
              "4   ham  Nah I don't think he goes to usf, he lives aro..."
            ]
          },
          "metadata": {
            "tags": []
          },
          "execution_count": 24
        }
      ]
    },
    {
      "cell_type": "code",
      "metadata": {
        "id": "P72QlQUei6yE",
        "colab_type": "code",
        "colab": {}
      },
      "source": [
        "df.columns = ['labels', 'data']"
      ],
      "execution_count": 25,
      "outputs": []
    },
    {
      "cell_type": "code",
      "metadata": {
        "id": "OM6QH2UjjCO4",
        "colab_type": "code",
        "colab": {
          "base_uri": "https://localhost:8080/",
          "height": 196
        },
        "outputId": "b01c1b12-6f26-4ec3-de43-27651c308f39"
      },
      "source": [
        "df.head()"
      ],
      "execution_count": 26,
      "outputs": [
        {
          "output_type": "execute_result",
          "data": {
            "text/html": [
              "<div>\n",
              "<style scoped>\n",
              "    .dataframe tbody tr th:only-of-type {\n",
              "        vertical-align: middle;\n",
              "    }\n",
              "\n",
              "    .dataframe tbody tr th {\n",
              "        vertical-align: top;\n",
              "    }\n",
              "\n",
              "    .dataframe thead th {\n",
              "        text-align: right;\n",
              "    }\n",
              "</style>\n",
              "<table border=\"1\" class=\"dataframe\">\n",
              "  <thead>\n",
              "    <tr style=\"text-align: right;\">\n",
              "      <th></th>\n",
              "      <th>labels</th>\n",
              "      <th>data</th>\n",
              "    </tr>\n",
              "  </thead>\n",
              "  <tbody>\n",
              "    <tr>\n",
              "      <th>0</th>\n",
              "      <td>ham</td>\n",
              "      <td>Go until jurong point, crazy.. Available only ...</td>\n",
              "    </tr>\n",
              "    <tr>\n",
              "      <th>1</th>\n",
              "      <td>ham</td>\n",
              "      <td>Ok lar... Joking wif u oni...</td>\n",
              "    </tr>\n",
              "    <tr>\n",
              "      <th>2</th>\n",
              "      <td>spam</td>\n",
              "      <td>Free entry in 2 a wkly comp to win FA Cup fina...</td>\n",
              "    </tr>\n",
              "    <tr>\n",
              "      <th>3</th>\n",
              "      <td>ham</td>\n",
              "      <td>U dun say so early hor... U c already then say...</td>\n",
              "    </tr>\n",
              "    <tr>\n",
              "      <th>4</th>\n",
              "      <td>ham</td>\n",
              "      <td>Nah I don't think he goes to usf, he lives aro...</td>\n",
              "    </tr>\n",
              "  </tbody>\n",
              "</table>\n",
              "</div>"
            ],
            "text/plain": [
              "  labels                                               data\n",
              "0    ham  Go until jurong point, crazy.. Available only ...\n",
              "1    ham                      Ok lar... Joking wif u oni...\n",
              "2   spam  Free entry in 2 a wkly comp to win FA Cup fina...\n",
              "3    ham  U dun say so early hor... U c already then say...\n",
              "4    ham  Nah I don't think he goes to usf, he lives aro..."
            ]
          },
          "metadata": {
            "tags": []
          },
          "execution_count": 26
        }
      ]
    },
    {
      "cell_type": "code",
      "metadata": {
        "id": "MqSMWA3bjDdy",
        "colab_type": "code",
        "colab": {}
      },
      "source": [
        "df['b_labels'] = df['labels'].map({'ham': 0, 'spam': 1})\n",
        "Y = df['b_labels'].values#convert to numpy array"
      ],
      "execution_count": 27,
      "outputs": []
    },
    {
      "cell_type": "code",
      "metadata": {
        "id": "8bKvIeS5jig2",
        "colab_type": "code",
        "colab": {
          "base_uri": "https://localhost:8080/",
          "height": 196
        },
        "outputId": "2e193669-6115-478d-e950-55f1f4f588e8"
      },
      "source": [
        "df.head()"
      ],
      "execution_count": 28,
      "outputs": [
        {
          "output_type": "execute_result",
          "data": {
            "text/html": [
              "<div>\n",
              "<style scoped>\n",
              "    .dataframe tbody tr th:only-of-type {\n",
              "        vertical-align: middle;\n",
              "    }\n",
              "\n",
              "    .dataframe tbody tr th {\n",
              "        vertical-align: top;\n",
              "    }\n",
              "\n",
              "    .dataframe thead th {\n",
              "        text-align: right;\n",
              "    }\n",
              "</style>\n",
              "<table border=\"1\" class=\"dataframe\">\n",
              "  <thead>\n",
              "    <tr style=\"text-align: right;\">\n",
              "      <th></th>\n",
              "      <th>labels</th>\n",
              "      <th>data</th>\n",
              "      <th>b_labels</th>\n",
              "    </tr>\n",
              "  </thead>\n",
              "  <tbody>\n",
              "    <tr>\n",
              "      <th>0</th>\n",
              "      <td>ham</td>\n",
              "      <td>Go until jurong point, crazy.. Available only ...</td>\n",
              "      <td>0</td>\n",
              "    </tr>\n",
              "    <tr>\n",
              "      <th>1</th>\n",
              "      <td>ham</td>\n",
              "      <td>Ok lar... Joking wif u oni...</td>\n",
              "      <td>0</td>\n",
              "    </tr>\n",
              "    <tr>\n",
              "      <th>2</th>\n",
              "      <td>spam</td>\n",
              "      <td>Free entry in 2 a wkly comp to win FA Cup fina...</td>\n",
              "      <td>1</td>\n",
              "    </tr>\n",
              "    <tr>\n",
              "      <th>3</th>\n",
              "      <td>ham</td>\n",
              "      <td>U dun say so early hor... U c already then say...</td>\n",
              "      <td>0</td>\n",
              "    </tr>\n",
              "    <tr>\n",
              "      <th>4</th>\n",
              "      <td>ham</td>\n",
              "      <td>Nah I don't think he goes to usf, he lives aro...</td>\n",
              "      <td>0</td>\n",
              "    </tr>\n",
              "  </tbody>\n",
              "</table>\n",
              "</div>"
            ],
            "text/plain": [
              "  labels                                               data  b_labels\n",
              "0    ham  Go until jurong point, crazy.. Available only ...         0\n",
              "1    ham                      Ok lar... Joking wif u oni...         0\n",
              "2   spam  Free entry in 2 a wkly comp to win FA Cup fina...         1\n",
              "3    ham  U dun say so early hor... U c already then say...         0\n",
              "4    ham  Nah I don't think he goes to usf, he lives aro...         0"
            ]
          },
          "metadata": {
            "tags": []
          },
          "execution_count": 28
        }
      ]
    },
    {
      "cell_type": "code",
      "metadata": {
        "id": "660Fa1VCjl6H",
        "colab_type": "code",
        "colab": {
          "base_uri": "https://localhost:8080/",
          "height": 33
        },
        "outputId": "e4243b17-4013-4c82-8c37-c38fa54ab0ce"
      },
      "source": [
        "Y"
      ],
      "execution_count": 29,
      "outputs": [
        {
          "output_type": "execute_result",
          "data": {
            "text/plain": [
              "array([0, 0, 1, ..., 0, 0, 0])"
            ]
          },
          "metadata": {
            "tags": []
          },
          "execution_count": 29
        }
      ]
    },
    {
      "cell_type": "code",
      "metadata": {
        "id": "VHvIyDszjsVg",
        "colab_type": "code",
        "colab": {}
      },
      "source": [
        "#split the data \n",
        "df_train, df_test, Ytrain, Ytest = train_test_split(df['data'], Y, test_size=0.33)"
      ],
      "execution_count": 30,
      "outputs": []
    },
    {
      "cell_type": "code",
      "metadata": {
        "id": "kYKzdpFaPTjx",
        "colab_type": "code",
        "colab": {}
      },
      "source": [
        "df_test = df_test.reset_index()"
      ],
      "execution_count": 52,
      "outputs": []
    },
    {
      "cell_type": "code",
      "metadata": {
        "id": "FjYxEVT11oQI",
        "colab_type": "code",
        "colab": {
          "base_uri": "https://localhost:8080/",
          "height": 33
        },
        "outputId": "1386d2d9-0e74-4afe-835b-3b9c16dd7477"
      },
      "source": [
        "type(df_test)"
      ],
      "execution_count": 31,
      "outputs": [
        {
          "output_type": "execute_result",
          "data": {
            "text/plain": [
              "pandas.core.series.Series"
            ]
          },
          "metadata": {
            "tags": []
          },
          "execution_count": 31
        }
      ]
    },
    {
      "cell_type": "code",
      "metadata": {
        "id": "Pu_buPlFUDSO",
        "colab_type": "code",
        "colab": {
          "base_uri": "https://localhost:8080/",
          "height": 33
        },
        "outputId": "4f27b4ad-c68f-4403-8885-9578e4785b9e"
      },
      "source": [
        "type(df_test[Ytest==1])"
      ],
      "execution_count": 53,
      "outputs": [
        {
          "output_type": "execute_result",
          "data": {
            "text/plain": [
              "pandas.core.frame.DataFrame"
            ]
          },
          "metadata": {
            "tags": []
          },
          "execution_count": 53
        }
      ]
    },
    {
      "cell_type": "code",
      "metadata": {
        "id": "fhQYK10K1q2I",
        "colab_type": "code",
        "colab": {
          "base_uri": "https://localhost:8080/",
          "height": 84
        },
        "outputId": "b6309733-ef83-4bff-9dc4-0c564c3178d0"
      },
      "source": [
        "df_test[Ytest==1].index"
      ],
      "execution_count": 54,
      "outputs": [
        {
          "output_type": "execute_result",
          "data": {
            "text/plain": [
              "Int64Index([   4,    5,    7,   15,   34,   53,   61,   65,   70,   71,\n",
              "            ...\n",
              "            1787, 1791, 1805, 1811, 1813, 1818, 1823, 1829, 1831, 1834],\n",
              "           dtype='int64', length=250)"
            ]
          },
          "metadata": {
            "tags": []
          },
          "execution_count": 54
        }
      ]
    },
    {
      "cell_type": "code",
      "metadata": {
        "id": "UbAKRV1navVU",
        "colab_type": "code",
        "colab": {
          "base_uri": "https://localhost:8080/",
          "height": 33
        },
        "outputId": "6566e1a1-b5df-440c-b497-75b1588aa38b"
      },
      "source": [
        "df_test.shape"
      ],
      "execution_count": 51,
      "outputs": [
        {
          "output_type": "execute_result",
          "data": {
            "text/plain": [
              "(1839,)"
            ]
          },
          "metadata": {
            "tags": []
          },
          "execution_count": 51
        }
      ]
    },
    {
      "cell_type": "code",
      "metadata": {
        "id": "TizoS2esxare",
        "colab_type": "code",
        "colab": {
          "base_uri": "https://localhost:8080/",
          "height": 67
        },
        "outputId": "0f195a58-0736-470e-c400-ea6b127e207e"
      },
      "source": [
        "df_test.iloc[5]"
      ],
      "execution_count": 58,
      "outputs": [
        {
          "output_type": "execute_result",
          "data": {
            "text/plain": [
              "index                                                 1443\n",
              "data     Free 1st week entry 2 TEXTPOD 4 a chance 2 win...\n",
              "Name: 5, dtype: object"
            ]
          },
          "metadata": {
            "tags": []
          },
          "execution_count": 58
        }
      ]
    },
    {
      "cell_type": "code",
      "metadata": {
        "id": "1uKB9NY22BxV",
        "colab_type": "code",
        "colab": {
          "base_uri": "https://localhost:8080/",
          "height": 33
        },
        "outputId": "ab735ba0-d41e-4217-b27f-3aacfbcd9105"
      },
      "source": [
        "#df_test.iloc(5368)\n",
        "print(df_test[df_test.index.isin([5368])])"
      ],
      "execution_count": 40,
      "outputs": [
        {
          "output_type": "stream",
          "text": [
            "Series([], Name: data, dtype: object)\n"
          ],
          "name": "stdout"
        }
      ]
    },
    {
      "cell_type": "code",
      "metadata": {
        "id": "zEvsqQ5yj-tS",
        "colab_type": "code",
        "colab": {}
      },
      "source": [
        "#Convert sentences to sequences\n",
        "MAX_VOCAB_SIZE = 20000\n",
        "tokenizer = Tokenizer(num_words=MAX_VOCAB_SIZE)\n",
        "tokenizer.fit_on_texts(df_train) #Fit only on the train dataset\n",
        "sequences_train = tokenizer.texts_to_sequences(df_train)\n",
        "sequences_test = tokenizer.texts_to_sequences(df_test)"
      ],
      "execution_count": 59,
      "outputs": []
    },
    {
      "cell_type": "code",
      "metadata": {
        "id": "i3-Z1wiXktyS",
        "colab_type": "code",
        "colab": {
          "base_uri": "https://localhost:8080/",
          "height": 33
        },
        "outputId": "0bf5880b-655d-43b0-e245-d05dfee69546"
      },
      "source": [
        "#get word index mapping\n",
        "word2idx = tokenizer.word_index\n",
        "V = len(word2idx)\n",
        "print('Found %s unique tokens' % V)"
      ],
      "execution_count": 60,
      "outputs": [
        {
          "output_type": "stream",
          "text": [
            "Found 7178 unique tokens\n"
          ],
          "name": "stdout"
        }
      ]
    },
    {
      "cell_type": "code",
      "metadata": {
        "id": "TfS084s0lDwe",
        "colab_type": "code",
        "colab": {
          "base_uri": "https://localhost:8080/",
          "height": 50
        },
        "outputId": "56f4fc8f-d829-4571-8812-25b3c64702af"
      },
      "source": [
        "#pad seq so that we have a NxT matrix\n",
        "data_train = pad_sequences(sequences_train)\n",
        "print('Shape of data train tensor: ', data_train.shape)\n",
        "T = data_train.shape[1] #If test dataset contains longer sentences, it will be truncated\n",
        "print(T)"
      ],
      "execution_count": 61,
      "outputs": [
        {
          "output_type": "stream",
          "text": [
            "Shape of data train tensor:  (3733, 162)\n",
            "162\n"
          ],
          "name": "stdout"
        }
      ]
    },
    {
      "cell_type": "code",
      "metadata": {
        "id": "_pr-yM5x-o84",
        "colab_type": "code",
        "colab": {
          "base_uri": "https://localhost:8080/",
          "height": 33
        },
        "outputId": "eddcbfba-f63e-4f0e-e3ba-02451a3fa54a"
      },
      "source": [
        "#pad seq so that we have a NxT matrix\n",
        "data_test = pad_sequences(sequences_test)\n",
        "print('Shape of data test tensor: ', data_test.shape)"
      ],
      "execution_count": 51,
      "outputs": [
        {
          "output_type": "stream",
          "text": [
            "Shape of data test tensor:  (1839, 121)\n"
          ],
          "name": "stdout"
        }
      ]
    },
    {
      "cell_type": "code",
      "metadata": {
        "id": "fz8JNvcPYVTB",
        "colab_type": "code",
        "colab": {
          "base_uri": "https://localhost:8080/",
          "height": 1000
        },
        "outputId": "e3d37441-daf9-4902-b9de-ea54bcc96ebb"
      },
      "source": [
        "tokenizer.sequences_to_texts(data_test)"
      ],
      "execution_count": 58,
      "outputs": [
        {
          "output_type": "execute_result",
          "data": {
            "text/plain": [
              "['of does he have any cash yet',\n",
              " 'love you aathi love u lot',\n",
              " 'it is then okay',\n",
              " 'forwarded from please call immediately as there is an urgent message waiting for you',\n",
              " 'you have won a nokia 7250i this is what you get when you win our free auction to take part send nokia to 86021 now hg suite342 2lands row w1jhl 16',\n",
              " 'urgent you have won a 1 week free membership in our å£100 000 prize txt the word claim to no t c www net pobox',\n",
              " 'dear got train and mine lower',\n",
              " \"i've told him that i've it that should i re order it\",\n",
              " 's if we have one good partnership going we will take lead',\n",
              " 'what i mean is do they come chase you out when its over or is it you can watch as many movies as you want',\n",
              " 'have a good evening ttyl',\n",
              " \"hows my favourite person today r u workin hard couldn't sleep again last nite nearly u at 4 30\",\n",
              " \"sorry i'll call later in meeting\",\n",
              " 'dunno y u ask me',\n",
              " 'okie',\n",
              " 'i know you are serving i mean what are you doing now',\n",
              " 'dear how is chechi did you talk to her',\n",
              " 'ur subscription has been and you have been charged å£4 50 you can choose 10 more polys this month www co uk msg',\n",
              " 'hey come online use msn we are all there',\n",
              " 'v a e n t i n e happy valentines day in advance',\n",
              " \"hello my little party i just thought i'd buzz you as you were with your friends grins reminding you were loved and send a naughty adoring kiss\",\n",
              " \"the reason i'm only around when it's time to smoke is that because of gas i can only to be around when someone tells me to be and that apparently only happens when somebody wants to light up\",\n",
              " 'hot live fantasies call now just 20p per min ntt ltd po box 1327 croydon cr9 5wb 0870 is a national rate call',\n",
              " 'pete can you please ring hardly credit',\n",
              " \"hey i've booked the 2 lessons on sun liao\",\n",
              " 'i guess it is calling u 4 something important',\n",
              " 'dont know ass and i thnk i think can play through usb too',\n",
              " 'u can win å£100 of music gift vouchers every week starting now txt the word draw to 87066 tscs www idew com skillgame 1winaweek age16 150ppermesssubscription',\n",
              " 'thinkin about someone is all good no drugs for that',\n",
              " 'i will be gentle baby soon you will be taking all lt gt inches deep inside your tight pussy',\n",
              " 'hey did u ever vote for the next',\n",
              " 'dear voucher holder 2 claim this weeks offer at your pc go to http www e tlp co uk ts cs apply 2 stop texts txt stop to 80062',\n",
              " '4 1 right',\n",
              " \"boo i'm on my way to my moms she's making tortilla\",\n",
              " 'i know a few people i can hit up and fuck to the yes',\n",
              " \"yeah lol i didn't have a role like you\",\n",
              " 'ok ill send you with in lt decimal gt ok',\n",
              " 'honey sweetheart darling sexy buns sugar loverboy i miss you boytoy your ass did you go to the gym too',\n",
              " 'sorry about that this is my mates phone and i didnt write it love kate',\n",
              " \"who's there say hi to our\",\n",
              " 'good my love how are today i hope your good and maybe have some i wake and miss you babe a passionate kiss from across the sea',\n",
              " 'i also upload some songs',\n",
              " \"i'm vivek i got call from your number\",\n",
              " 'dear shall mail tonite busy in the street shall update you tonite things are looking ok but a good one in real sense',\n",
              " 'can not use foreign stamps in this country good lecture',\n",
              " \"wa ur very anyway i'm fine too juz tt i'm eatin too much n on weight haha so anythin special happened\",\n",
              " 'otherwise had part time job na tuition',\n",
              " 'i dont knw pa i just drink milk',\n",
              " 'quite late lar ard 12 anyway i wun b drivin',\n",
              " 'spending new years with my brother and his family lets plan to meet next week are you ready to be',\n",
              " 'what year and how many miles',\n",
              " \"aah a cuddle would be i'd need lots of tea and before any kind of\",\n",
              " 'love it i want to that pretty pussy with cum',\n",
              " 'aight we can pick some up you open before tonight',\n",
              " 'but i juz i gotta bathe my dog today',\n",
              " 'we got a divorce lol she s here',\n",
              " \"she said '' do u mind if i go into the bedroom for a minute '' ''ok'' i sed in a sexy mood she came out 5 minuts latr wid a cake n my wife\",\n",
              " 'can meh some will really ah i dun mind i dun seen to have lost any weight gee',\n",
              " 'you know my old i told you about yesterday his name is roger he got in touch with me last night and wants me to meet him today at 2 pm',\n",
              " 'great news call freefone 08006344447 to claim your guaranteed å£1000 cash or å£2000 gift speak to a live operator now',\n",
              " 'say this slowly god i love you amp i need you clean my heart with your blood send this to ten special people amp u c miracle tomorrow do it pls pls do it',\n",
              " 'going on nothing great bye',\n",
              " \"nope i'm not drivin i neva develop da photos lei\",\n",
              " 'o i played bros lt gt',\n",
              " \"hi dear call me its urgnt i don't know whats your problem you don't want to work or if you have any other problem at least tell me wating for your reply\",\n",
              " \"the i'm waiting by the\",\n",
              " \"why don't you go tell your friend you're not sure you want to live with him because he smokes too much then spend hours begging him to come smoke\",\n",
              " \"entry in 2 a weekly comp for a chance to win an ipod txt pod to 80182 to get entry std txt rate t c's apply 08452810073 for details 18\",\n",
              " 'oops 4 got that bit',\n",
              " 'then u go back urself lor',\n",
              " \"can you just come in for a sec there's somebody here i want you to see\",\n",
              " 'how long has it been since you screamed princess',\n",
              " 'you need to get up now',\n",
              " 'free ringtone reply real',\n",
              " 'yes the only place in town to meet exciting adult singles is now in the uk txt chat to 86688 now 150p msg',\n",
              " 'we will meet soon princess ttyl',\n",
              " 'it just seems like weird timing that the night that all you and g want is for me to come smoke is the same day as when a is to me always coming over and making everyone smoke',\n",
              " 'ok no just remember that a friend in need',\n",
              " 'are u coming to the funeral home',\n",
              " 'collect your weekend to paris inc flight hotel å£200 prize guaranteed text paris to no www com',\n",
              " 'hi if ur lookin 4 saucy fun wiv married woman am free all next week chat now 2 sort time callså£1 minmobsmorelkpobox177hp51fl',\n",
              " 'play w computer aiyah i tok 2 u lor',\n",
              " 'what is your account number',\n",
              " \"lol ok ill try to send be is dead slow you'll prolly get it tomorrow\",\n",
              " 'sir send to group mail check it',\n",
              " \"sorry vikky i'm watching movie kano in theatre wit my frnds\",\n",
              " 'thanks for the it was wonderful thank have a great week',\n",
              " \"she's fine good to hear from you how are you my dear happy new year oh\",\n",
              " \"yup he msg me is tat yijue then i tot it's my group mate cos we meeting today mah i'm askin if ì leaving earlier or wat mah cos mayb ì haf to walk v far\",\n",
              " 'hi back did wonder if you got eaten by a or something nothing much',\n",
              " \"i'm really sorry i won't b able 2 do this friday hope u can find an hope yr going ok\",\n",
              " 'its not that time of the month mid of the time',\n",
              " \"text me when you get off don't call my phones having problems\",\n",
              " 'babe i lost you',\n",
              " 'hello darlin ive finished college now so txt me when u finish if u can love kate xxx',\n",
              " \"i call you later don't have network if urgnt sms me\",\n",
              " 'i cant pick the phone right now pls send a message',\n",
              " \"what u talking bout early morning it's almost noon where your at\",\n",
              " 'call to use ur mins calls 10p min mob vary service provided by just month until u stop ages 18 only',\n",
              " 'yup song bro no neva test quality he said check review online',\n",
              " 'may i call you later pls',\n",
              " 'a bit of ur smile is my hppnss a drop of ur tear is my sorrow a part of ur heart is my life a heart like mine wil care for u forevr as my goodfriend',\n",
              " 'really i tot ur paper ended long ago but wat u jus now got use u happy lar i still haf 2 study',\n",
              " 'had your contract mobile 11 latest motorola nokia etc all free double mins text on orange tariffs text yes for no to remove from records',\n",
              " 'aft i finish my lunch then i go str down lor ard 3 smth lor u finish ur lunch already',\n",
              " 'i need coz i never go before',\n",
              " 'are you going to write exam this week',\n",
              " 'convey my regards to him',\n",
              " 'remember all those whom i hurt during days of in me need to pay a price so be it may keep me going and as u said pray that i get the mind to get over the same',\n",
              " 'ok',\n",
              " 'i think chennai well settled',\n",
              " 'god created gap ur fingers so dat sum1 vry special will fill those gaps by holding ur hands now plz dont ask y he created so much gap between legs',\n",
              " \"i wanted to wish you a happy new year and i wanted to talk to you about some legal advice to do with when gary and i but in person i'll make a trip to ptbo for that i hope everything is good with you babe and i love ya\",\n",
              " \"yes watching but worried we're going to blow it\",\n",
              " 'i feel like a dick because i keep sleeping through your texts and facebook messages sup you in town',\n",
              " 'and whenever you and i see we can still hook up too',\n",
              " 'gent we are trying to contact you last weekends draw shows that you won a å£1000 prize guaranteed call 09064012160 claim code k52 valid 12hrs only 150ppm',\n",
              " \"forgot to tell ì smth can ì like number the so that it's\",\n",
              " 'how about and trips',\n",
              " 'good good mates all gone just been jogging again did enjoy concert',\n",
              " 'txt call to no claim your reward of 3 hours talk time to use from your phone now inc 16 stop www tv',\n",
              " 'your next amazing xxx video will be sent to you enjoy if one is not enough for 2day text back the to get the next video',\n",
              " 'its ok i just askd did u knw tht no',\n",
              " 'purity of friendship between two is not about smiling after reading the forwarded message its about smiling just by seeing the name gud evng',\n",
              " \"dear u've been invited to xchat this is our final attempt to contact u txt chat to 86688 150p msgrcvdhg suite342 2lands row w1j6hl ldn 18 yrs\",\n",
              " 'what time i\\x89û÷m out until prob 3 or so',\n",
              " 'you guys getting back g said you were thinking about not staying for',\n",
              " \"well i'm going to be an aunty\",\n",
              " 'okay good no problem and thanx',\n",
              " \"i've got ten bucks jay is being\",\n",
              " 'will you like to be',\n",
              " 'pls stop f is inviting you to be her friend reply yes 434 or no 434 see her www sms ac u stop send stop frnd to 62468',\n",
              " 'bloomberg message center 447797706009 why wait apply for your future http careers bloomberg com',\n",
              " \"i'm done oredi\",\n",
              " 'sorry about earlier putting out are you around to talk after 9 or do you actually have a life lol',\n",
              " 'are you still getting the',\n",
              " \"no but we'll do medical to nigeria\",\n",
              " 'actually getting ready to leave the house',\n",
              " 'dear we got lt gt dollars hi hi',\n",
              " 'you still at grand',\n",
              " 'i want to be there so i can kiss you and feel you next to me',\n",
              " 'university of california',\n",
              " \"that's a shame maybe cld meet for few hrs tomo\",\n",
              " 'dnt worry use ice pieces in a pack also take 2 tablets',\n",
              " 'hope you enjoyed your new content text stop to 61610 to unsubscribe help 08712400602450p provided by tones2you co uk',\n",
              " 'urgent your mobile no was awarded å£2000 bonus caller prize on 5 9 03 this is our final try to contact u call from landline 150ppm',\n",
              " 'is your hamster dead hey so tmr i meet you at orchard mrt',\n",
              " 'no my bf not coming',\n",
              " \"that's not v romantic\",\n",
              " 'can you open the door',\n",
              " 'package all your well',\n",
              " 'wife how she knew the time of murder exactly',\n",
              " 'im done just in library',\n",
              " 'babe how goes that day what are you doing where are you i my cappuccino and think of you my love i send a kiss to you from across the sea',\n",
              " 'lt gt great xmas update you can totally see stars here',\n",
              " 'your opinion about me 1 over 2 jada 3 kusruthi 4 lovable 5 silent 6 spl character 7 not matured 8 stylish 9 simple pls reply',\n",
              " \"the guy at the car shop who was flirting with me got my phone number from the paperwork and called and texted me i'm nervous because of course now he may have my address should i call his boss and tell him this may get him\",\n",
              " 'why do you ask princess',\n",
              " \"come to mu we're sorting out our situation\",\n",
              " 'wake up i miss you i crave you i need you',\n",
              " 'probably gonna swing by in a wee bit',\n",
              " 'oic i saw him too but i tot he din c me i found a group liao',\n",
              " 'good afternoon babe how goes that day any job prospects yet i miss you my love sighs',\n",
              " 'then she buying today ìï no need to c meh',\n",
              " \"yeah that's the i got\",\n",
              " 'do i i thought i put it back in the box',\n",
              " 'okay lor wah like that def they wont let us go haha what did they say in the terms and conditions',\n",
              " 'what happened to our yo date',\n",
              " \"damn poor doesn't stand a chance\",\n",
              " 'you are a big common',\n",
              " 'are you up for the challenge i know i am',\n",
              " 'still i have not checked it da',\n",
              " 'hi babe its jordan how r u im home from and lonely text me back if u wanna chat visionsms com text stop to 150p',\n",
              " 'if we win its really no 1 side for long time',\n",
              " \"do whatever you want you know what the are we had a talk earlier this week about what had to start happening you showing responsibility yet every week it's can i the rule this way what about that way do whatever i'm tired of having same argument with you every week and a lt gt movie doesnt the you're still getting in after 1\",\n",
              " 'final chance claim ur å£150 worth of discount vouchers today text yes to 85023 now savamob member offers mobile t cs savamob pobox84 m263uz å£3 00 subs 16',\n",
              " 'just normal only here',\n",
              " \"yeah that's what i thought lemme know if goin on later\",\n",
              " \"it's week since we broke up and already our are going to\",\n",
              " 'yo howz u girls never after india',\n",
              " \"where's boy is he being good or bad is he being or why is mummy being made to wait\",\n",
              " 'my no in ring me if ur around h',\n",
              " \"i'm job seems like\",\n",
              " 'message important information for o2 user today is your lucky day 2 find out why log onto http www urawinner com there is a fantastic surprise awaiting you',\n",
              " 'u really pig leh sleep so much my dad wake me up at 10 smth 2 eat lunch today',\n",
              " 'aiyah u did ok already lar e nydc at',\n",
              " 'i got it before the new year cos yetunde said she wanted to surprise you with it but when i didnt see money i it mid january before the lt gt day return period ended',\n",
              " 'hello my cake',\n",
              " 'hey you can pay with salary de only lt gt',\n",
              " 'when i was born god said oh no another idiot when you were born',\n",
              " 'i am thinking of going down to reg for lessons my advance haha wat time u going',\n",
              " 'can you pls pls send me a mail on all you know about coming to deliver here all you know about costs benefits and anything else thanks',\n",
              " \"i'm in a movie call me 4 wat\",\n",
              " 'u have a secret admirer who is looking 2 make contact with u find out who they r reveal who thinks ur so special call on 09058094599',\n",
              " 'well you know what i mean texting',\n",
              " \"wow you're right i didn't mean to do that i guess once i gave up on boston men and changed my search location to nyc something changed cuz on my page it still says boston\",\n",
              " 'well the price is lt gt oz let me know if when how much you want',\n",
              " 'bring it if you got it',\n",
              " 'bank of granite issues strong buy explosive pick for our members up over 300 nasdaq symbol cdgt that is a 5 00 per',\n",
              " 'your dad is back in ph',\n",
              " 'i cant talk to you now i will call when i can dont keep calling',\n",
              " \"under the sea there a rock in the rock there is an envelope in the envelope there is a paper on the paper there are 3 words '\",\n",
              " 'i ll post her out l8r in class',\n",
              " 'free video camera phones with half price line rental for 12 mths and 500 cross ntwk mins 100 txts call mobileupd8 08001950382 or call2optout 674',\n",
              " 'its going good no problem but still need little experience to understand american customer voice',\n",
              " 'ill call you evening ill some',\n",
              " 'i enjoy watching and playing football and anything and you',\n",
              " 'k wat s tht',\n",
              " 'ok no prob',\n",
              " 'let ur heart be ur ur mind ur map ur soul ur guide and u will never loose in world sent via com',\n",
              " 'do you want a new nokia 3510i colour phone deliveredtomorrow with 300 free minutes to any mobile 100 free texts free camcorder reply or call 08000930705',\n",
              " \"like i made him throw up when we were smoking in our friend's car one time it was awesome\",\n",
              " 'old orchard near how about you',\n",
              " 'that day ì say ì cut ur hair at paragon is it called hair sense do ì noe how much is a hair cut',\n",
              " 'just see you in a couple days lt 3',\n",
              " \"i'm not coming over do whatever you want\",\n",
              " 'hard but true how much you show amp express your love to someone that much it will hurt when they leave you or you get evening',\n",
              " 'k still are you loving me',\n",
              " 'u have a secret admirer who is looking 2 make contact with u find out who they r reveal who thinks ur so special call on',\n",
              " \"quite ok but a bit ex u better go eat smth now else i'll feel guilty\",\n",
              " 'there are many company tell me the language',\n",
              " 'i told that am coming on wednesday',\n",
              " \"i'm always on yahoo messenger now just send the message to me and i ll get it you may have to send it in the mobile mode sha but i ll get it and will reply\",\n",
              " 'yeah but which is worse for i',\n",
              " 'cuz and don wanna study',\n",
              " 'awesome that gonna be soon or later tonight',\n",
              " 'orange brings you ringtones from all time chart with a free hit each week go to ringtones pics on wap to stop receiving these reply stop',\n",
              " \"i thought i'd get him a watch just cos thats the kind of thing u and he loves so much\",\n",
              " 'now whats your house again and do you have any beer there',\n",
              " 'oh all have to come ah',\n",
              " 'haha i think i did too',\n",
              " \"book which lesson then you msg me i will call up after work or i'm going to get my membership is\",\n",
              " 'im at eating i will be out about 10 30 wanna or is that to late',\n",
              " \"also where's the piece\",\n",
              " 'please tell me not all of my car keys are in your',\n",
              " \"i don't know u and u don't know me send chat to 86688 now and let's find each other only 150p msg rcvd hg suite342 2lands row w1j6hl ldn 18 years or over\",\n",
              " 'ha you don\\x89û÷t know either i did a a but simple thing with the other day perfect for christmas',\n",
              " 'hey are we going for the lesson or gym',\n",
              " 'but your not here',\n",
              " 'yup',\n",
              " \"sorry i'll call later\",\n",
              " 'and stop being an old man you get to build snow and',\n",
              " 'of the return of the king in store now reply by 2 june 4 chance 2 win cds reply stop to end txts',\n",
              " 'com lets you send free and messages im sending this message from there do you see the for',\n",
              " 'where can download clear movies dvd',\n",
              " \"honeybee said i'm d sweetest in d world god laughed amp said wait u havnt met d person reading this msg moral even god can crack jokes gm gn ge gn\",\n",
              " 'be happy there i will come after noon',\n",
              " 'let me know how it changes in the next 6hrs it can even be but you are out of that age range however its not so just chill and let me know in 6hrs',\n",
              " \"ìï neva tell me how i noe i'm not at home in da aft wat\",\n",
              " 'our mother passed away last night just pray for her and family',\n",
              " 'pls give her then lt gt mins later',\n",
              " 'you have won a å£2 000 price to claim call',\n",
              " 'god bless get good sleep my dear i will pray',\n",
              " 'got it it looks daddy wants to eat you all night long',\n",
              " 'are you going to wipro interview today',\n",
              " 'yep then is fine 7 30 or 8 30 for ice age',\n",
              " 'u 447801259231 have a secret admirer who is looking 2 make contact with u find out who they r reveal who thinks ur so special call on 09058094597',\n",
              " 'i want to sent lt gt mesages today thats y sorry if i hurts',\n",
              " 'sorry mail',\n",
              " '1st wk free gr8 tones 2 u each wk txt nokia on to 8007 for nokia tones or hit on to 8007 for polys nokia 150p poly 16',\n",
              " 'what about this one then',\n",
              " 'thanks it was only from but quite nice all gone now speak soon',\n",
              " \"i think it's all still in my car\",\n",
              " \"horrible u eat eat until u forgot abt me already rite u take so long 2 reply i thk it's more than b4 so b prepared now wat shall i eat\",\n",
              " 'its normally hot mail com you see',\n",
              " 'i sent your maga that money yesterday oh',\n",
              " 'wat time do u wan 2 meet me later',\n",
              " 'what u wearing',\n",
              " \"yeah that's fine it's å£6 to get in is that ok\",\n",
              " 'i only work from mon to thurs but sat i cant leh booked liao which other day u free',\n",
              " 'it is should be at this time of year',\n",
              " 'k k',\n",
              " 'well i will watch in 3d b',\n",
              " 'i dont have i shall buy one dear',\n",
              " 'not directly behind abt 4 behind ì',\n",
              " 'sorry sent blank msg again yup but trying 2 do some serious studying now',\n",
              " 'alright took the morphine back in yo',\n",
              " \"i dont have any of your file in my bag i was in work when you called me i 'll tell you if i find anything in my room\",\n",
              " \"i don't think i can get away for a that long with family in town sorry\",\n",
              " 'reply to win å£100 weekly what sport does play send stop to 87239 to end service',\n",
              " 'to you was away from the system how your side',\n",
              " 'hey something came up last min think i wun be up tmr hee',\n",
              " 'win a å£200 shopping spree every week starting now 2 play text store to 88039 skilgme age16 å£1',\n",
              " 'u come n search tat not',\n",
              " 'nope juz off from work',\n",
              " 'so the sun is anti sleep medicine',\n",
              " 'did you show him and wot did he say or could u not c him 4',\n",
              " 'i ll get there tomorrow and send it to you',\n",
              " 'back 2 work 2morro half term over can u c me 2nite 4 some sexy b4 i have 2 go back chat now luv calls å£1 minmobsmorelkpobox177hp51fl',\n",
              " 'maybe you should find something else to do instead',\n",
              " 'enjoy ur life good night',\n",
              " \"sorry i'll call later\",\n",
              " 'thanks for yesterday sir you have been wonderful hope you enjoyed the mojibiola',\n",
              " 'height of confidence all the aeronautics professors wer calld amp they wer askd 2 sit in an aeroplane aftr they sat they wer told dat the plane ws made by their students dey all hurried out of d plane bt only 1 didnt move he said if it is made by my students',\n",
              " 'thts wat brother did to fly',\n",
              " 'k k how is your business now',\n",
              " \"yeah i am so i'll leave maybe 7ish\",\n",
              " 'i am in hospital da i will return home in evening',\n",
              " 'and pls pls drink plenty plenty water',\n",
              " 'well i know will take care of me so no worries',\n",
              " 'so its to be man everyday that they teach you in canada abi how are you just saying hi',\n",
              " \"okay i've seen it so i should pick it on friday\",\n",
              " 'no problem we will be spending a lot of quality time together',\n",
              " 'i ll hand her my phone to chat wit u',\n",
              " 'your weekly cool mob tones are ready to download this weeks new tones include 1 crazy frog f 2 lonely 3 black dont p more info in n',\n",
              " 'but am going to college pa what to do are else ill come there it self pa',\n",
              " 'i was wondering if it would be okay for you to call uncle john and let him know that things are not the same in nigeria as they r here that lt gt dollars is sent and that you know its a but i plan to pay back every he gives every so for me to expect anything from you is not practical something like that',\n",
              " 'dude got a now its up there',\n",
              " 'ur balance is now next question complete the big a b or c ben text a b or c to good luck',\n",
              " \"you've always been the one\",\n",
              " 'how izzit still raining',\n",
              " \"i'm taking derek amp to if i'm not back by the time you're done just leave the on my and i'll text you when priscilla's ready\",\n",
              " \"living is very simple loving is also simple laughing is too simple winning is tooo simple but being 'simple' is very difficult gud\",\n",
              " 'we have sent jd for customer service cum accounts executive to ur mail id for details contact us',\n",
              " 'not much no it was a good nite',\n",
              " 'iåõm cool ta luv but v tired 2 cause i have been doin loads of planning all wk we have got our social services at the take care spk sn x',\n",
              " \"well if i'm that desperate i'll just call armand again\",\n",
              " 'yes baby we can study all the of the',\n",
              " 'cos i was out shopping wif darren jus now n i called him 2 ask wat present he wan lor then he started guessing who i was wif n he finally darren lor',\n",
              " 'hey mate spoke to the people we\\x89û÷re on the is deliver by the end of the month deliver on the sept talk later',\n",
              " 'staff nus edu',\n",
              " 'please give it 2 or i will pick it up on tuesday evening about 8 if that is ok',\n",
              " 'hello madam how are you',\n",
              " 'tmr still da same wat cos i got lesson until 6',\n",
              " 'yo call me when you get the chance a friend of mine wanted me to ask you about a big order',\n",
              " 'also sir i sent you an email about how to log into the usc payment i ll send you another message that should explain how things are back home have a great weekend',\n",
              " 'i am great princess what are you thinking about me',\n",
              " 'final chance claim ur å£150 worth of discount vouchers today text yes to 85023 now savamob member offers mobile t cs savamob pobox84 m263uz å£3 00 subs 16',\n",
              " 'yes i know the songs from the',\n",
              " 'i think its far more than that but find out check google for a place from your dorm',\n",
              " \"i thk shd b enuff still got n pg n i'll b doing da pg n cover pg\",\n",
              " 'oh ok no prob',\n",
              " 'he is there you call and meet him',\n",
              " \"a little meds say take once every 8 hours it's only been 5 but pain is back so i took another hope i don't die\",\n",
              " \"your gonna be the death if me i'm gonna leave a note that says its all fault me\",\n",
              " \"ok the theory test when are ì going to book i think it's on 21 may coz thought wanna go out with jiayin but she isnt free\",\n",
              " 'so u gonna get deus ex',\n",
              " 'good afternoon loverboy how goes you day any luck come your way i think of you sweetie and send my love across the sea to make you smile and happy',\n",
              " '4mths half price orange line rental latest camera phones 4 free had your phone 11mths call mobilesdirect free on 08000938767 to update now or2stoptxt',\n",
              " 'please attend the phone',\n",
              " \"i'm going out to buy mum's present ar\",\n",
              " \"i'll be at mu in like lt gt seconds\",\n",
              " \"tonight yeah i'd be down for that\",\n",
              " 'well am in a so if u wanna call am at home ready to be saved',\n",
              " \"oh yes i've just been a little under the weather so i've kind of been at home\",\n",
              " 'we tried to call you re your reply to our sms for a video mobile 750 mins unlimited text free camcorder reply or call now 08000930705 del thurs',\n",
              " 'me fine fine',\n",
              " 'no it was cancelled yeah baby well that sounds important so i understand my darlin give me a ring later on this fone love kate x',\n",
              " \"need a coffee run tomo can't believe it's that time of week already\",\n",
              " \"that's fine i'll bitch at you about it later then\",\n",
              " \"sad story of a man last week was my b'day my wife did'nt wish me my parents forgot n so did my kids i went to work even my colleagues did not wish as i entered my cabin my pa said '' happy b'day boss '' i felt special she askd me 4 lunch after lunch she invited me to her apartment we went there she said '' do u mind if i go into the bedroom for a minute '' ''ok'' i sed in a sexy mood she came out 5 minuts latr wid a cake n my wife my parents my kidz my friends n my colleagues all screaming surprise and i was waiting on the sofa ' naked\",\n",
              " \"didn't try g and i decided not to head out\",\n",
              " \"sorry i'll call later\",\n",
              " 'nothing much chillin at home any super bowl plan',\n",
              " 'went fast asleep dear take care',\n",
              " 'please call our customer service representative on freephone 0808 145 4742 between 9am 11pm as you have won a guaranteed å£1000 cash or å£5000 prize',\n",
              " 'i wanna watch that movie',\n",
              " 'am i that much dirty',\n",
              " 'hi its kate it was lovely to see you tonight and ill phone you tomorrow i got to sing and a guy gave me his card xxx',\n",
              " 'get ur 1st ringtone free now reply to this msg with tone gr8 top 20 tones to your phone every week just å£1 50 per wk 2 opt out send stop 16',\n",
              " \"tells that chocolate will melt under the please don't walk under the bcoz i don't want to loss a sweet friend\",\n",
              " \"hmmm and imagine after you've come home from that having to rub my feet make me dinner and help me get ready for my date are you sure your ready for that kind of life\",\n",
              " 'no few hours before went to hair cut',\n",
              " \"you ain't gonna be here before 9\",\n",
              " \"most of the when i don't let you hug me it's so i don't break into\",\n",
              " 'not shall uni at 6 get a bus to yor house',\n",
              " \"yeah jay's sort of a fucking\",\n",
              " \"nah i don't think he goes to usf he lives around here though\",\n",
              " \"do u ever get a song stuck in your head for no reason and it won't go away til u listen to it like 5 times\",\n",
              " \"me dey laugh you meanwhile how's my darling\",\n",
              " 'at home watching tv lor',\n",
              " 'your account has been credited with 500 free text messages to activate just txt the word credit to no 80488 t cs www 80488 biz',\n",
              " \"ha ha nan kothi chikku u many things wit me so far i didn't told any body and even a word abt u if ur me so much how can i tell these to others plz nxt time dont use those words to me ok chikku b\",\n",
              " 'i cant pick the phone right now pls send a message',\n",
              " '18 days to euro2004 u will be kept informed of all the latest news and results daily unsubscribe send get stop to',\n",
              " 'ok not a problem will get them a taxi c tomorrow and tuesday on tuesday think we r all going to the cinema',\n",
              " 'cos daddy time c wat time fetch ì mah',\n",
              " 'cheers for the message been staring at my phone for an age deciding whether to text or not',\n",
              " 'are you still playing with gautham',\n",
              " 'full pa i have oil pa',\n",
              " 'ya just telling abt tht',\n",
              " 'finish meeting call me',\n",
              " \"i'm fine hope you are good do take care\",\n",
              " 'ya i knw u vl giv its ok thanks kano anyway enjoy wit ur family wit 1st salary',\n",
              " \"call me when u're done\",\n",
              " 'probably gonna be here for a while see you later tonight lt',\n",
              " 'dunno lei ì all decide lor how abt oops i tot ben is going n i msg him',\n",
              " 'if you have belive me come to my home',\n",
              " \"no i'm not gonna be able to too late notice i'll be home in a few weeks anyway what are the plans\",\n",
              " 'enjoy urself tmr',\n",
              " 'im gettin some juicy gossip at the hospital two are talking about how fat they are gettin and one thinks',\n",
              " \"i'm working technical support voice process networking field\",\n",
              " 'tiwary to between bang and',\n",
              " \"is there a reason we've not spoken this year anyways have a great week and all the best in your exam\",\n",
              " 'reverse is cheating that is not mathematics',\n",
              " 'are you available for on june 3rd',\n",
              " 'me not waking up until 4 in the afternoon sup',\n",
              " 'yeah we got one up for us',\n",
              " 'get your garden ready for summer with a free selection of summer bulbs and seeds worth å£33 50 only with the scotsman this saturday to stop go2 notxt co uk',\n",
              " \"where are you must i you to me all the time now don't you wish to come to me on your own anymore\",\n",
              " 'thats cool how was your day',\n",
              " \"my friend just got here and says he's his order by a few he's got lt gt when can you get here\",\n",
              " 'life oru pole',\n",
              " 'beauty sleep can help ur pimples too',\n",
              " 'oh just getting even with u u',\n",
              " 'nothing but we jus tot u would ask cos u ba but we went mt yest yest jus went out already mah so today not going out jus call lor',\n",
              " 'if i die i want u to have all my',\n",
              " 'you unbelievable',\n",
              " 'urgent your mobile number has been awarded with a å£2000 prize guaranteed call 09061790121 from land line claim 3030 valid 12hrs only 150ppm',\n",
              " 'ìï oredi cos i juz rem i got',\n",
              " \"i'm so in love with you i'm each day i spend with you you make me so happy\",\n",
              " 'ok how many should i buy',\n",
              " 'can you use foreign stamps for whatever you send them off for',\n",
              " 'hey happy birthday',\n",
              " 'my painful personal thought i always try to keep everybody happy all the time but nobody me when i am alone',\n",
              " 'sexy sexy cum and text me im wet and warm and ready for some porn u up for some fun this msg is free recd msgs 150p inc 2 cancel text stop',\n",
              " 'wot discount can u get on books',\n",
              " \"now i'm going out 4 dinner soon\",\n",
              " 'dunno lei he neva say',\n",
              " 'finish liao u',\n",
              " 'who were those people were you in a tour i thought you were doing that sofa thing you sent me your sugar',\n",
              " \"y dun cut too short leh u dun like ah she failed she's quite sad\",\n",
              " 'haha yeah 2 oz is kind of a',\n",
              " \"my trip was ok but quite lor uni starts today but it's ok 4 me cos i'm not taking any modules but jus on my final yr project\",\n",
              " 'sometimes heart someone very much someone soon bcoz heart will not like everyone but liked ones will be bslvyl',\n",
              " 'well its not like you actually called someone a that woulda been worse',\n",
              " 'well good morning mr hows london ya',\n",
              " 'good night my dear sleepwell amp take care',\n",
              " 'when you are big god will bring success',\n",
              " 'todays voda numbers ending are selected to receive a if you have a match please call 08712300220 quoting claim code 3100 standard rates app',\n",
              " 'ok im not sure what time i finish tomorrow but i wanna spend the evening with you cos that would be love me xxx',\n",
              " 'no my are sufficient thx',\n",
              " \"what time you think you'll have it need to know when i should be near campus\",\n",
              " \"u've been selected to stay in 1 of 250 top for nothing holiday valued at å£350 dial 08712300220 to claim national rate call\",\n",
              " 'havent still waitin as usual ìï come back sch oredi',\n",
              " \"that's what i love to hear v see you then\",\n",
              " 'hope this text meets you smiling if not then let this text give you a reason to smile have a beautiful day',\n",
              " 'tell to his gf in the',\n",
              " 'me fine fine',\n",
              " 'win we have a winner mr t foley won an ipod more exciting prizes soon so keep an eye on ur mobile or visit www win 82050 co uk',\n",
              " 'how are you just checking up on you',\n",
              " \"good morning pie lol hope i didn't wake u up\",\n",
              " \"i need an 8th but i'm off campus atm could i pick up in an hour or two\",\n",
              " 'armand says get your ass over to epsilon',\n",
              " 'call and send our girls into just 60p min to stop texts call 08712460324 nat rate',\n",
              " 'lor wat time u wan 2 come n look 4 us',\n",
              " 'i wont do anything de',\n",
              " 'when you came to hostel',\n",
              " \"when people see my msgs they think iam addicted to msging they are wrong bcoz they don 't know that iam addicted to my sweet friends bslvyl\",\n",
              " 'dear voucher holder 2 claim your 1st class airport when using your holiday voucher call when booking quote 1st class x 2',\n",
              " 'someone u know has asked our dating service 2 contact you cant guess who call 09058091854 now all will be revealed po box385 m6 6wu',\n",
              " 'how come she can get it should b quite diff to guess rite',\n",
              " 'freemsg txt call to no claim your reward of 3 hours talk time to use from your phone now inc 16 stop',\n",
              " 'i sent details to the mail box',\n",
              " 'kay since we are out already',\n",
              " 'buy space invaders 4 a chance 2 win orig arcade game console press 0 for games arcade std wap charge see o2 co uk games 4 terms settings no purchase',\n",
              " \"i can't right this second gotta hit people up first\",\n",
              " 'i am joining today pls keep praying will talk later',\n",
              " \"i'm okay chasing the dream what's good what are you doing next\",\n",
              " 'jamster to get your free wallpaper text heart to 88888 now t c apply 16 only need help call',\n",
              " 'as in different',\n",
              " 'beautiful truth against gravity read carefully our heart feels light when someone is in it but it feels very heavy when someone leaves it good night',\n",
              " 'i am in hospital da i will return home in evening',\n",
              " 'thanx 4 da fone down on me',\n",
              " 'amazing sometimes in life its difficult to decide whats wrong a lie that brings a smile or the truth that brings a tear',\n",
              " 'oh that was a forwarded message i thought you send that to me',\n",
              " 'thank you dear for the rakhesh',\n",
              " 'urgent we are trying to contact u todays draw shows that you have won a å£2000 prize guaranteed call from land line claim valid 12hrs only',\n",
              " 'faith makes things possible hope makes things work love makes things beautiful may you have all three this christmas merry christmas',\n",
              " \"well i'm glad you didn't find it totally lol\",\n",
              " 'had your mobile 11 months or more u r entitled to update to the latest colour mobiles with camera for free call the mobile update co free on 08002986030',\n",
              " 'anything lor but toa payoh got place 2 walk meh',\n",
              " 'we are hoping to get away by 7 from langport you still up for town tonight',\n",
              " 'dunno lei shd b driving lor cos i go sch 1 hr oni',\n",
              " 'sir i am waiting for your call once free please call me',\n",
              " 'private your 2003 account statement for shows 800 un redeemed s i m points call 08718738001 identifier code expires 26 11 04',\n",
              " 'set a place for me in your heart and not in your mind as the mind but the heart will always remember wish you happy valentines day',\n",
              " 'exactly anyways how far is her to study or just',\n",
              " 'your chance to be on a reality fantasy show call now 08707509020 just 20p per min ntt ltd po box 1327 croydon cr9 5wb 0870 is a national rate call',\n",
              " 'this pay is lt decimal gt',\n",
              " \"unless it's a situation where you go would be more\",\n",
              " 'is much easy give your account so i will tomorrow at uni',\n",
              " 'if you r home then come down within 5 min',\n",
              " \"yeah we wouldn't leave for an hour at least how's 4 sound\",\n",
              " \"aiyar u so poor thing i give u my support k you i'll think of u\",\n",
              " 'i had askd u a question some hours before its answer',\n",
              " 'were gonna go get some',\n",
              " 'any way where are you and what doing',\n",
              " \"we're finally ready fyi\",\n",
              " \"well i'm gonna finish my bath now have a good fine night\",\n",
              " 'hi there ur lucky night been invited 2 xchat the uks chat txt chat to 86688 now 150p msgrcvdhg suite342 2lands row w1j6hl ldn 18yrs',\n",
              " 'where did u go my phone is gonna die you have to stay in here',\n",
              " 'then just eat a shit and wait for ur face bitch u',\n",
              " \"no chikku nt yet ya i'm free\",\n",
              " 'should i be u',\n",
              " 'if u dun drive then how i go 2 sch',\n",
              " 'we are supposed to meet to discuss abt our trip thought xuhui told you in the afternoon thought we can go for lesson after that',\n",
              " \"important information 4 orange user today is your lucky day 2find out why log onto http www urawinner com there's a fantastic surprise awaiting you\",\n",
              " 'you please give us connection today itself before lt decimal gt or the bill',\n",
              " 'love has one law make happy the person you love in the same way friendship has one law never make ur friend feel alone until you are alive gud night',\n",
              " 'i want to see your pretty pussy',\n",
              " 'at home by the way',\n",
              " 's num',\n",
              " 'grins did i buzz your ass buzz your buzz your cock where do you keep your phone is the on did you feel it',\n",
              " 'pls speak with me i wont ask anything other then you friendship',\n",
              " 'i place all ur points on e module already',\n",
              " \"wrong phone this phone i answer this one but assume the other is people i don't well\",\n",
              " '1 20 that call cost which i guess isnt bad miss ya need ya want ya love ya',\n",
              " 'please call our customer service representative on 0800 169 6031 between 10am 9pm as you have won a guaranteed å£1000 cash or å£5000 prize',\n",
              " 'i meant middle left or right',\n",
              " \"lemme know when you're here\",\n",
              " 's s first time dhoni rocks',\n",
              " 'hi its me you are probably having too much fun to get this message but i thought id txt u cos im bored and james has been at me all night',\n",
              " 'nope i just forgot will show next week',\n",
              " 'yup wun believe wat u really neva c e msg i sent shuhui',\n",
              " 'yes when is the appt again',\n",
              " \"yo i'm at my parents' gettin cash good news we picked up a\",\n",
              " 'his bday real is in april',\n",
              " \"only if you promise your getting out as soon as you can and you'll text me in the morning to let me know you made it in ok\",\n",
              " 'unlimited texts minutes',\n",
              " \"isn't frnd a in life imagine urself a frnd u feel at ur u do ur cell wat abt thnk abt missed amp u it to all those dear loving frnds whom u cant live i jst did it goodmorning\",\n",
              " 'sms ac posts hello you seem cool',\n",
              " \"hi i'm i am 20 years old and work as a i love sex text me live i'm i my bedroom now text to 89555 by textoperator 18\",\n",
              " 'lol where do u come up with these',\n",
              " 'we left already we at orchard now',\n",
              " 'it is only yesterday true true',\n",
              " 'text to 89555 to see cost 150p textoperator g696ga 18 xxx',\n",
              " \"thanx yup we coming back on sun finish dinner going back 2 hotel now time flies we're 4 exactly a mth today hope we'll haf many more mths to come\",\n",
              " \"yeah there's barely enough room for the two of us x has too many fucking shoes sorry man see you later\",\n",
              " 'east coast',\n",
              " \"storming msg wen u lift d phne u say hello do u knw wt is d real meaning of hello it's d name of a girl yes and u knw who is dat girl margaret hello she is d girlfrnd f grahmbell who invnted telphone moral one can 4get d name of a person\",\n",
              " 'great princess i love giving and receiving doggy style is my fave position how about you i enjoy making love lt gt times per night',\n",
              " 'you have passed in all the papers in this sem congrats gud mrng',\n",
              " 'we stopped to get ice cream and will go back after',\n",
              " 'k k advance happy pongal',\n",
              " 'ok pa nothing problem',\n",
              " \"no i don't have cancer moms making a big deal out of a regular aka pap\",\n",
              " 'u so lousy run already come back then half dead hee',\n",
              " 's but not able to sleep',\n",
              " 'aiya we discuss later lar pick ì up at 4 is it',\n",
              " 'hello my boytoy geeee i miss you already and i just woke up i wish you were here in bed with me cuddling me i love you',\n",
              " \"prabha i'm soryda realy frm heart i'm sory\",\n",
              " 'i have 2 sleeping bags 1 and paper and phone details anything else',\n",
              " \"i'm an actor when i work i work in the evening and sleep late since i'm at the moment i always sleep late when you're every day is saturday\",\n",
              " 'u were by on the dvd 2 bid again visit sms ac 2 end bid reply end out',\n",
              " 'for many things its an and it can be used for and even bone',\n",
              " \"for ur chance to win å£250 cash every wk txt play to t's c's www music net custcare 08715705022 1x150p wk\",\n",
              " \"sorry i'll call later\",\n",
              " '3 free texts find out about your love life now try 3 for free text chance to 16 only after 3 free msgs å£1 50 each',\n",
              " 'u have won a nokia plus a free digital camera this is what u get when u win our free auction to take part send nokia to 83383 now w1 16',\n",
              " 'okey dokey stuff what oh',\n",
              " 'never y lei i v lazy got wat dat day ì send me da url cant work one',\n",
              " \"and he's apparently with quick now\",\n",
              " \"free entry in 2 a wkly comp to win cup final tkts may 2005 text to 87121 to receive entry question std txt rate t c's apply\",\n",
              " 'reach home call me',\n",
              " 'when you just put in the sign choose my number and the pin will show right',\n",
              " \"sorry i'll call later\",\n",
              " 'watching tv now i got new job',\n",
              " 'mark works tomorrow he gets out at 5 his work is by your house so he can meet u',\n",
              " 'hey is rite u put is that all',\n",
              " 'who are you seeing',\n",
              " 'ok thanx',\n",
              " 'talk sexy make new friends or fall in love in the worlds most discreet text dating service just text vip to and see who you could meet',\n",
              " 'can ì send me a copy of da report',\n",
              " 'i will reach ur home in lt gt minutes',\n",
              " 'got one quite ex',\n",
              " 'even my brother is not like to speak with me they treat me like',\n",
              " \"didn't you get b in nigeria\",\n",
              " 'k k are you in college',\n",
              " \"you didn't hear it from me\",\n",
              " 'sent me ur email id soon',\n",
              " \"yup i'm still having coffee wif my frens my drove she'll give me a lift\",\n",
              " 'camera you are awarded a sipix digital camera call 09061221066 fromm landline delivery within 28 days',\n",
              " 'i dont have that much in class',\n",
              " \"or u ask they all if next sat can a not if all of them can make it then i'm ok lor\",\n",
              " 'you have come into my life and brought the sun down on me my heart putting a smile on my face making me feel loved and for',\n",
              " 'pick you up bout 7 30ish what time are and that going',\n",
              " \"that's very rude you on campus\",\n",
              " \"aight we'll head out in a few\",\n",
              " 'no da if you run that it activate the full version da',\n",
              " 'holy living christ what is taking you so long',\n",
              " 'can you text kadeem or are you too far gone',\n",
              " 'dear where you will be when i reach there',\n",
              " 'does cinema plus drink tomo is a fr by i like on at mac at 8 30',\n",
              " 'i wnt to buy a bmw car urgently its vry urgent but hv a shortage of lt gt lacs there is no source to arng dis amt lt gt lacs thats my prob',\n",
              " 'get down in and walk to cross cut road right side lt gt street road and turn at first right',\n",
              " 'hm good morning anyone',\n",
              " 'u can win å£100 of music gift vouchers every week starting now txt the word draw to 87066 tscs www ldew com skillgame 1winaweek age16 150ppermesssubscription',\n",
              " 'hmmm mayb can try e shoppin area one but forgot e name of hotel',\n",
              " 'night has ended for another day morning has come in a special way may you smile like the sunny rays and leaves your worries at the blue blue bay gud mrng',\n",
              " 'yeah for you staying at that weekend',\n",
              " 'congrats 2 mobile 3g r yours call now wid ur mates play games music bx420 ip4 5we 150pm',\n",
              " 'you your shit yet',\n",
              " \"oh shut it omg yesterday i had a dream that i had 2 kids both boys i was so pissed not only about the kids but them being boys i even told mark in my dream that he was cause i'm not getting in the face\",\n",
              " 'sounds like you have many would you like to go on a dinner date next week',\n",
              " 'it s a argh ok',\n",
              " 'super msg da timing',\n",
              " 'then what about further plan',\n",
              " 'lol yes but it will add some to your day',\n",
              " 'oh ho is this the first time u use these type of words',\n",
              " 'dude how do you like the buff',\n",
              " \"alright i'll head out in a few minutes text me where to meet you\",\n",
              " \"i'm putting it on now it should be ready for lt time gt\",\n",
              " 'you are being contacted by our dating service by someone you know to find out who it is call from a land line pobox45w2tg150p',\n",
              " 'aight see you in a bit',\n",
              " 'im just wondering what your doing right now',\n",
              " \"i'm e person who's doing e sms survey\",\n",
              " 'just seeing your missed call my dear brother do have a gr8 day',\n",
              " 'hot live fantasies call now 08707509020 just 20p per min ntt ltd po box 1327 croydon cr9 5wb 0870 k',\n",
              " 'ok thanx gd nite 2 ì too',\n",
              " 'you dont know you me abi',\n",
              " \"so there's a ring that comes with the guys it's there so they can gift their future hint hint\",\n",
              " 'sir i am waiting for your call',\n",
              " \"haven't seen my facebook huh lol\",\n",
              " 'a cute thought for friendship its not to share every secret with ur close frnd',\n",
              " \"did you catch the bus are you an egg did you make a tea are you eating your mom's left over dinner do you feel my love\",\n",
              " 'no de but call me after some time ill tell you k',\n",
              " 'congratulations ur awarded 500 of cd vouchers or 125gift guaranteed free entry 2 100 wkly draw txt music to 87066 tncs www ldew com1win150ppmx3age16',\n",
              " 'today iz yellow rose day if u love my frndship give me 1 amp send this to ur amp see how many miss calls u get if u get u marry ur lover',\n",
              " \"nvm it's ok\",\n",
              " \"she said '' do u mind if i go into the bedroom for a minute '' ''ok'' i sed in a sexy mood she came out 5 minuts latr wid a cake n my wife\",\n",
              " 'yo yo yo',\n",
              " 'roger that we\\x89û÷re probably going to rem in about 20',\n",
              " \"i'll probably be by tomorrow or even later tonight if going on\",\n",
              " 'sorry chikku my cell got some problem thts y i was nt able to reply u or msg u',\n",
              " 'will you be here for food',\n",
              " 'sitting ard nothing to do lor u leh busy w work',\n",
              " \"hello my boytoy i made it home and my thought is of you my love i hope your having a nice visit but i can't wait till you come home to me kiss\",\n",
              " 'i am late i will be there at',\n",
              " 'same as kallis in 2nd test',\n",
              " 'you have won 1 000 cash or a 2 000 prize to claim call09050000327 t c rstm sw7 3ss 150ppm',\n",
              " 'gd luck 4 ur exams',\n",
              " 'ìï only send me the page',\n",
              " 'yup i thk cine is better cos no need 2 go down 2 plaza mah',\n",
              " 'u calling me right call my hand phone',\n",
              " 'remember to ask alex about his pizza',\n",
              " 'beautiful truth against gravity read carefully our heart feels light when someone is in it but it feels very heavy when someone leaves it good night',\n",
              " \"honey boo i'm missing u\",\n",
              " \"free2day sexy st george's day pic of jordan txt pic to 89080 dont miss out then every wk a saucy celeb 4 more pics c pocketbabe co uk 0870241182716 å£3 wk\",\n",
              " \"hurry up i've been weed for like three days\",\n",
              " 'as a registered subscriber yr draw 4 a å£100 gift voucher will b entered on receipt of a correct ans when are the next txt ans to 80062',\n",
              " \"yeah i'll try to something up\",\n",
              " 'happy new year princess',\n",
              " 'private your 2003 account statement for fone no shows 800 un redeemed s i m points call identifier code expires 26 10 04',\n",
              " 'tell me again what your address is',\n",
              " 'i have a date on sunday with will',\n",
              " 'she is our sister she 2 our family she is d hope of tomorrow pray 4 her who was 4 d train lets hold our hands together amp by love amp 2 her amp pain pls join in dis chain amp pass it stop violence against women',\n",
              " 'come to me right now ahmad',\n",
              " 'r we still meeting 4 dinner tonight',\n",
              " 'will be office around 4 pm now i am going hospital',\n",
              " \"want 2 get laid tonight want real dogging locations sent direct 2 ur mob join the uk's largest dogging network by txting moan to ec2a msg 150p\",\n",
              " 'no i got rumour that you going to buy apartment in chennai',\n",
              " 'i hope your alright babe i worry that you might have felt a bit when you the job was a fake i am here waiting when you come back my love',\n",
              " 'call listen to dirty live chat going on in the office right now total privacy no one knows your listening 60p min 24',\n",
              " \"hi where are you we're at and they're not to go out i kind of am but feel i shouldn't so can we go out tomo don't mind do you\",\n",
              " 'someone has contacted our dating service and entered your phone fancy you to find out who it is call from a landline 150p',\n",
              " \"i can't how lucky you are that i'm actually awake by noon\",\n",
              " 'only just got this message not you yes i was shopping that is',\n",
              " 'you all ready for big day tomorrow',\n",
              " \"aight call me once you're close\",\n",
              " 'i didnt get anything da',\n",
              " \"y she dun believe leh i tot i told her it's true already i thk she muz c us then she believe\",\n",
              " 'so lets make it saturday or monday as per',\n",
              " 'i will come to ur home now',\n",
              " 'lt gt mins but i had to stop somewhere first',\n",
              " \"it's only ard rest all ard at least which is price 4 2 bedrm 900\",\n",
              " 'i am not at all happy with what you saying or doing',\n",
              " 'u r subscribed 2 textcomp 250 wkly comp 1st wk s free question wks charged 150p msg 2 unsubscribe txt stop 2 84128 custcare 08712405020',\n",
              " 'for your chance to win a free bluetooth then simply reply back with',\n",
              " 'hurry home is done',\n",
              " 'i dunno lei like dun haf',\n",
              " \"nope but i'll b going 2 sch on fri quite early lor cos sis got paper in da morn\",\n",
              " 'wish u many many returns of the day happy birthday vikky',\n",
              " \"i'm home\",\n",
              " 'i am late i will be there at',\n",
              " \"hi i'm sorry i missed your call can you pls call back\",\n",
              " 'i think the other two still need to get cash but we can def be ready by 9',\n",
              " 'ok lor thanx ìï in school',\n",
              " 'cheers lou yeah was a goodnite shame u neva came c ya',\n",
              " 'hmm yeah if your not too out and im looking forward to my pound special',\n",
              " 'sary just need in the it hurt him a lot so he me',\n",
              " '5 nights we nt staying at step liao too ex',\n",
              " 'why did i wake up on my own gt',\n",
              " \"this pen thing is a joke wont a do don't do a masters as can't do this ever again\",\n",
              " 'k do it at evening da urgent',\n",
              " 'you always work just quit',\n",
              " 'in the end she might still vomit but its okay not everything will come out',\n",
              " 'ur order is on the way u should receive a service msg 2 download ur content if u do not goto wap tv on ur mobile internet service menu',\n",
              " 'take care and sleep well you need to learn to change in life you only need to get on that i will wait but no more between us get by that time your family is over for you in many respect them but not or u have no role in my life',\n",
              " 'you have 1 new message please call',\n",
              " 'sms ac energy is high but u may not know where it 2day ur r strong reply ans w question end reply end',\n",
              " 'on the road so cant txt',\n",
              " 'got it pounds for seven hundred \\x89ûò hope ok',\n",
              " 'thanx 4 sending me home',\n",
              " 'i will come with car please wait till 6pm will directly goto doctor',\n",
              " \"no promises on when though haven't even gotten dinner yet\",\n",
              " 'win a year supply of cds 4 a store of ur choice worth å£500 enter our å£100 weekly draw txt music to 87066 ts cs www ldew com',\n",
              " \"sir i have been late in paying rent for the past few months and had to pay a lt gt charge i felt it would be inconsiderate of me to nag about something you give at great cost to yourself and that's why i didnt speak up i however am in a recession and wont be able to pay the charge this month hence my askin well ahead of month's end can you please help thanks\",\n",
              " \"sorry i can't help you on this\",\n",
              " \"msg na 7 name 1 2 3 4 5 6 7 7 name lt gt next saturday good news 1 lt gt true don't\",\n",
              " 'ard 530 like dat lor we juz meet in mrt station then ì dun haf to come out',\n",
              " \"nah i'm a\",\n",
              " 'co uk more games from dear helen of free games with great',\n",
              " 'boo babe u u seemed 2 b gettin on well hunny hope ure ok take care 2u of loveme xxxx',\n",
              " 'there are some nice near here or there is n near the warner cinema',\n",
              " 'male sale hot gay chat now cheaper call 08709222922 national rate from 1 5p min cheap to 7 8p min peak to stop texts call 08712460324 10p min',\n",
              " 'ringtoneking',\n",
              " 'winner as a valued network customer you been selected to receive a å£900 reward to collect call valid 24 hours only acl03530150pm',\n",
              " 'i have no idea where you are',\n",
              " 'horrible bf i now v hungry',\n",
              " \"i'll reach in ard 20 mins ok\",\n",
              " 'hi mate its did u hav a nice hol just a message 3 say hello coz sent u 1 in ages started driving so stay off roads',\n",
              " \"if you aren't here in the next lt gt hours imma my shit\",\n",
              " 'email low cost listen to email call 123',\n",
              " 'haha awesome omw back now then',\n",
              " 'u gd lor go shopping i got stuff to do u wan 2 watch infernal a not come lar',\n",
              " 'call him and say you not coming today ok and tell them not to fool me like this ok',\n",
              " 'oh yes why is it like watching england',\n",
              " \"if you're still up maybe leave the credit card so i can get gas when i get back like he told me to\",\n",
              " 'check wid i e sarcasm',\n",
              " 'ya told she was asking wats matter',\n",
              " 'my love how come it took you so long to leave for i got your words on ym and was happy to see them but was sad you had left i miss you',\n",
              " 'hey sexy buns have i told you i adore you loverboy i hope you remember to thank your sister in law for those grins i love you babe',\n",
              " 'huh hyde park not in mel ah got confused anyway if e best choice den we juz have to take it',\n",
              " 'dear umma she called me now',\n",
              " 'you will be in the place of that man',\n",
              " \"the lt gt g that i saw a few days ago the guy wants sell wifi only for lt gt and with 3g for lt gt that's why i him\",\n",
              " 'yeah no probs last night is obviously catching up with you speak soon',\n",
              " 'watching tv lor nice one then i like lor',\n",
              " 'im realy my 2nite what about 2moro',\n",
              " 'hello sort of out in town already that so dont rush home i am eating will let you know eta',\n",
              " 'dont pick up d call when something important is there to tell',\n",
              " \"yup izzit still raining cos i'm in e mrt i can't c outside\",\n",
              " 'hello darling how are you today i would love to have a chat why dont you tell me what you look like and what you are in to sexy',\n",
              " 'congrats 2 mobile 3g r yours call now wid ur mates play games music bx420 ip4 5we 150p',\n",
              " 'i tot u reach liao he said t shirt',\n",
              " 'ok but i finish at 6',\n",
              " 'lol i would but my mom would have a fit and tell the whole family how crazy and terrible i am',\n",
              " 'so when do you wanna gym',\n",
              " \"i'm in town now so i'll jus take mrt down later\",\n",
              " \"just trying to figure out when i'm to see a couple different people this week we said we'd get together but i didn't set dates\",\n",
              " \"we'll you pay over like lt gt yrs so its not too difficult\",\n",
              " \"freemsg hey i'm 25 and love to satisfy men home alone feeling randy reply 2 c my pix a msg send stop to stop txts\",\n",
              " 'be here in a minute if you still need to buy',\n",
              " 'great so what you to the brothas',\n",
              " 'yeah if we do have to get a random dude we need to change our info to party lt gt 7 never study just to be safe',\n",
              " 'k k where are you how did you',\n",
              " 'almost there see u in a sec',\n",
              " 'how many times i told in the all use to laugh you not listen aha',\n",
              " \"got but got 2 lor one colour is quite light n e other is lor actually i'm done she's my hair now\",\n",
              " 'wiskey brandy rum gin beer vodka scotch shampain wine kudi yarasu dhina vaazhthukkal',\n",
              " 'wake up sweet morning you enjoy this day with full of joy gud mrng',\n",
              " 'me n him so funny',\n",
              " 'yeah go on then bored and depressed waitin for phone to ring hope the though scary',\n",
              " 'anything lor is she coming',\n",
              " 'yo any way we could pick something up tonight',\n",
              " 'i accidentally deleted the message please',\n",
              " \"thought i didn't see you\",\n",
              " 'thank you for calling forgot to say happy to you i am fine here and you when i met an insurance person meet you in qatar insha allah rakhesh ex who joined tissco tayseer',\n",
              " \"hey thk we juz go to wat we yest lor except no kb on sun cos there's nt much lesson to go if we attend kb on sat\",\n",
              " 'hey what happened u switch off ur cell d whole day this isnt good now if u do care give me a call tomorrow',\n",
              " 'purity of friendship between two is not about smiling after reading the forwarded message its about smiling just by seeing the name gud evng musthu',\n",
              " \"of course don't tease me you know i simply must see grins do keep me posted my prey loving smile kiss\",\n",
              " 'also ice etc etc',\n",
              " 'convey my regards to him',\n",
              " \"sorry i'll call later\",\n",
              " 'is avatar supposed to have',\n",
              " 'anytime lor',\n",
              " 'december only had your mobile 11mths you are entitled to update to the latest colour camera mobile for free call the mobile update free on 08002986906',\n",
              " 'were trying to find a chinese food place around here',\n",
              " \"lol i have to take it member how i said my didn't visit for 6 months it's cause i bc is the only way to them\",\n",
              " 'yup i havent been there before you want to go for the yoga i can call up to book',\n",
              " 'hiya wot u up 2 im in so much at home at moment me even u wot the hell av i done now y wont u just tell me text bck please luv dan',\n",
              " 'no its true k do u knw dis no lt gt',\n",
              " 'any i can get pls',\n",
              " 'you will go to i ll stay',\n",
              " 'carlos took a while again we leave in a minute',\n",
              " 'sorry that took so long omw now',\n",
              " 'princess is your or natural',\n",
              " \"i'm in a movie collect car oredi\",\n",
              " 'chat get entry into 121 chat rooms at a of the cost reply or call to 25p pm box ldn wc1n3xx',\n",
              " 'have a lovely night and when you wake up to see this message i hope you smile all is as should be have a great morning',\n",
              " \"oh my god i've found your number again i'm so glad text me back this msgs std ntwk å£1 50\",\n",
              " \"sorry i'll call you later i am in meeting sir\",\n",
              " 'what not under standing',\n",
              " 'thatåõs alrite girl u know is neva wrong take care sweet and donåõt worry c u hun love',\n",
              " 'where are you you said you would be here when i woke',\n",
              " '26th of july',\n",
              " 'home so we can always chat',\n",
              " 'hi darlin i as me a meal when are u free',\n",
              " 'sitting in mu waiting for everyone to get out of my suite so i can take a shower',\n",
              " 'so many people seems to be special at first sight but only very few will remain special to you till your last sight maintain them till life ends sh jas',\n",
              " 'hi technical support to us customer through call and email',\n",
              " \"today i'm not workin but not free oso gee u workin at ur shop\",\n",
              " \"sorry i'll call later\",\n",
              " 'i liked your new house',\n",
              " 'hi chikku send some nice msgs',\n",
              " 'not able to do anything',\n",
              " 'no let me do the your not good at it',\n",
              " 'aathi where are you dear',\n",
              " 'marriage is while u r a snake u bt love marriage is dancing in of d snake amp bite me bite me',\n",
              " 'free for 1st week no1 nokia tone 4 ur mobile every week just txt nokia to 8077 get txting and tell ur mates www getzed co uk pobox 36504 w45wq 16 norm150p tone',\n",
              " \"if i was i wasn't paying\",\n",
              " 'if you r home then come down within 5 min',\n",
              " 'can you pls send me that company name in',\n",
              " \"nobody names their penis a girls name this story doesn't add up at all\",\n",
              " 'nothing just getting msgs by dis name wit different',\n",
              " \"i haven't forgotten you i might have a couple bucks to send you tomorrow k i love ya too\",\n",
              " 'me 2 babe i feel the same lets just 4get about it both try cheer up not fit soo u',\n",
              " \"that's cool i'll come by like lt gt ish\",\n",
              " 'ok lor sony ericsson i ask shuhui then she say quite gd 2 use so i considering',\n",
              " \"you are always putting your business out there you put pictures of your ass on facebook you are one of the most open people i've ever met why would i think a picture of your room would hurt you make you feel violated\",\n",
              " 'you do got a of diamonds though',\n",
              " 'me also da i feel yesterday night wait til 2day night dear',\n",
              " 'for u text rgds',\n",
              " \"no sir that's why i had an 8 hr trip on the bus last week have another audition next wednesday but i think i might drive this time\",\n",
              " 'i will lick up every drop are you ready to use your as well',\n",
              " \"lol i really need to remember to eat when i'm drinking but i do appreciate you keeping me company that night babe smiles\",\n",
              " 'ìï v ma fan',\n",
              " \"hello yeah i've just got out of the bath and need to do my hair so i'll come up when i'm done yeah\",\n",
              " 'do you want a new nokia 3510i colour phone delivered tomorrow with 200 free minutes to any mobile 100 free text free camcorder reply or call',\n",
              " 'lol have you made plans for new years',\n",
              " 'the man just to let you know you are missed and thought off do have a great day and if you can send me and numbers ill appreciate safe',\n",
              " 'k ill drink pa then what doing i need model pls send it to my mail id pa',\n",
              " 'with your mother ah',\n",
              " 'isnt having tb test bad when sick',\n",
              " 'accordingly i repeat just text the word ok on your mobile phone and send',\n",
              " 'lmao ok i wont be u to do my hair anymore',\n",
              " 'sms auction a brand new nokia 7250 is up 4 auction today auction is free 2 join take part txt nokia to 86021 now hg suite342 2lands row w1j6hl',\n",
              " 'sir waiting for your mail',\n",
              " \"she went to attend another two today but still did't reach home\",\n",
              " 'so ì pay first lar then when is da stock comin',\n",
              " \"aight i'll hit you up when i get some cash\",\n",
              " 'ìï go home liao ask dad to pick me up at 6',\n",
              " 'i cant pick the phone right now pls send a message',\n",
              " 'bin awarded to play 4 cash call to claim every player wins min å£500 optout 08718727870',\n",
              " \"sorry it's a lot of friend of a friend stuff i'm just now about to talk to the actual guy who wants to buy\",\n",
              " 'its ok come to my home it vl nice to meet and v can chat',\n",
              " 'am on the site am i buying the only or am i buying it with the self also',\n",
              " \"i'm gonna be home soon and i don't want to talk about this stuff anymore tonight k i've enough today\",\n",
              " 'no need to ìï too bored izzit y thk of this',\n",
              " 'painful words i thought being happy was the most thing on earth but',\n",
              " 'yeah probably here for a while',\n",
              " \"orange customer you may now claim your free camera phone upgrade for your loyalty call now on 0207 153 offer ends t c's apply opt out\",\n",
              " '1 in cbe 2 in chennai',\n",
              " 'i cant wait to see you how were the photos were useful',\n",
              " 'it shall be fine i have now will',\n",
              " 'howz that persons story',\n",
              " 'i can send you a pic if you like',\n",
              " 'ard 6 like dat lor',\n",
              " 'he is to argue with and he always me like his sub like he never released me which he did and i will remind him of that if',\n",
              " \"i forgot 2 ask ì all smth there's a card on da present lei how ìï all want 2 write smth or sign on it\",\n",
              " \"wanna get laid 2nite want real dogging locations sent direct to ur mobile join the uk's largest dogging network txt park to 69696 now nyt ec2a 3lp å£1 50 msg\",\n",
              " \"as per your request 'maangalyam alaipayuthe ' has been set as your callertune for all callers press 9 to copy your friends callertune\",\n",
              " 'just sent it so what type of food do you like',\n",
              " 'yo we are watching a movie on',\n",
              " \"how's things just a quick question\",\n",
              " 'hey can you give me a bell when you get this need to talk to you about this visit on the 1st june',\n",
              " 'are you in town this is v important',\n",
              " 'you said not now no problem when you can let me know',\n",
              " 'this single single answers are we fighting plus i said am broke and you didnt reply',\n",
              " 'the greatest test of courage on earth is to bear defeat without losing heart gn tc',\n",
              " 'babe make me horny turn me on txt me your fantasy now babe im hot sticky and need you now all cost å£1 50 2 cancel send stop',\n",
              " 'okay i booked all already including the one at bugis',\n",
              " 'did u see what i posted on your facebook',\n",
              " 'surely result will offer',\n",
              " 'shall i come to get pickle',\n",
              " 'december only had your mobile 11mths you are entitled to update to the latest colour camera mobile for free call the mobile update co free on 08002986906',\n",
              " 'get the official england poly ringtone or colour flag on yer mobile for tonights game text tone or flag to 84199 optout txt eng stop box39822 w111wx å£1 50',\n",
              " 'ok ok ok then whats ur todays plan',\n",
              " 'dear got bus directly to calicut',\n",
              " 'ok da i already planned i wil pick you',\n",
              " 'ok lor then we go lor',\n",
              " 'thing r good thanx got exams in march ive done no is fran still with ive gotta 4 exeter bit worried x',\n",
              " 'free msg get crazy ringtone totally free just reply go to this message right now',\n",
              " 'babes i think i got ur i left it in english wil bring it in 2mrw 4 u luv',\n",
              " \"hi you just spoke to maneesha v we'd like to know if you were satisfied with the experience reply toll free with yes or no\",\n",
              " 'just got up have to be out of the room very soon \\x89û i put the back til at 8 i shouted at everyone to get up and then it was 7 another hour in bed',\n",
              " 'im good i have been thinking about you',\n",
              " 'wen ur lovable bcums angry wid u dnt take it seriously coz being angry is d most childish n true way of showing deep affection care n luv kettoda manda have nice day da',\n",
              " 'wanna do some art d',\n",
              " \"i don't have number i still haven't thought up a way to ask alex\",\n",
              " \"that's y we haf to combine n c how lor\",\n",
              " 'ever thought about living a good life with a perfect partner just txt back name and age to join the mobile community sms',\n",
              " 'pete is this your phone still its jenny from college and what are you up to now',\n",
              " 'in which place i can get rooms cheap',\n",
              " \"sorry i can't help you on this\",\n",
              " 'lol i was gonna last month i some in but i left lt gt just in case i was collecting more during the week cause they it on the',\n",
              " 'no message no responce what happend',\n",
              " \"under the sea there a rock in the rock there is an envelope in the envelope there is a paper on the paper there are 3 words '\",\n",
              " 'mmmm i cant wait to lick it',\n",
              " 'rofl wtf was in your room or something',\n",
              " \"i'm glad you are following your dreams\",\n",
              " 'good morning my dear have a great amp successful day',\n",
              " 'happy new year how are you where are you when are we seeing',\n",
              " 'what happen dear why you silent i am',\n",
              " 'a usually runs like lt gt a half eighth is though and gets you almost a whole second for lt gt',\n",
              " \"aiyo her lesson so early i'm still haha okie u go home liao den confirm w me lor\",\n",
              " 'no message no responce what happend',\n",
              " 'how was txting and driving',\n",
              " 'this weekend is fine an excuse not to do too much',\n",
              " 'no need lar jus testing e phone card dunno network not gd i thk me waiting 4 my sis 2 finish bathing so i can bathe dun disturb u liao u cleaning ur room',\n",
              " 'send me number pls',\n",
              " 'this is the 2nd time we have tried to contact u u have won the å£1450 prize to claim just call b4 t cs stop sms',\n",
              " 'money i have won number wot do i do next',\n",
              " 'customer place i wil cal u sir',\n",
              " 'no current and food here i am alone also',\n",
              " 'there is a first time for everything',\n",
              " \"thursday night yeah sure thing we'll work it out then\",\n",
              " 'call germany for only 1 pence per minute call from a fixed line via access number 0844 861 85 85 no prepayment direct access',\n",
              " 'i calls you later afternoon service get problem in south i can hear you but you listen me',\n",
              " 'free for 1st week no1 nokia tone 4 ur mob every week just txt nokia to 8007 get txting and tell ur mates www getzed co uk pobox 36504 w45wq norm150p tone 16',\n",
              " 'booked ticket for pongal',\n",
              " \"i ain't no phone at what is actually a pretty hour but i'm sleepy\",\n",
              " 'there are no other charges after transfer charges and you can you like',\n",
              " \"sorry i'll call later in meeting any thing to trade please call lt gt\",\n",
              " 'mon okie lor haha best is cheap n gd food la ex oso okie depends on whether wana eat or chinese food den which u prefer',\n",
              " 'dear i am leaving to qatar tonite for an opportunity pls do keep in touch at lt email gt kerala',\n",
              " '87077 kick off a new season with free goals news to ur mobile txt ur club name to 87077 eg to 87077',\n",
              " \"well she's in for a big surprise\",\n",
              " \"free entry in 2 a wkly comp to win cup final tkts may 2005 text to 87121 to receive entry question std txt rate t c's apply\",\n",
              " '2morow 28 5 with nichols from paris free 2 all ladies info',\n",
              " 'went to ganesh dress shop',\n",
              " \"i'm wif him now buying lar\",\n",
              " '09066362231 urgent your mobile no 07xxxxxxxxx won a å£2 000 bonus caller prize on 02 06 03 this is the 2nd attempt to reach you call 09066362231 asap',\n",
              " 'shop till u drop is it you either 10k 5k å£500 cash or å£100 travel voucher call now 09064011000 ntt po box cr01327bt fixedline cost 150ppm mobile vary',\n",
              " 'are you not around or just still asleep v',\n",
              " '18 days to euro2004 u will be kept informed of all the latest news and results daily unsubscribe send get stop to',\n",
              " 'what time you coming down later',\n",
              " \"yep get with the you're\",\n",
              " \"no you'll just get a trying to figure it out u can trust me to do the i promise o\",\n",
              " 'forwarded from 21870000 hi this is your mailbox messaging sms alert you have 40 matches please call back on 09056242159 to retrieve your messages and matches min',\n",
              " \"just send a text we'll skype later\",\n",
              " \"no i'm not working i'm in school so if we rush we go hungry\",\n",
              " 'yes here tv is always available in work place',\n",
              " 'none',\n",
              " 'lil fever now fine',\n",
              " 'forgot it takes me 3 years to shower sorry where you at your phone dead yet',\n",
              " 'response is one of d 2 a place in others so',\n",
              " 'or ì go buy wif him then i meet ì later can',\n",
              " 'no dear i do have free messages without any hi hi hi',\n",
              " 'anything lor juz both of us lor',\n",
              " 'rakhesh ex here pls call urgent',\n",
              " \"nope i'm still in the market\",\n",
              " 'hey you still want to go for yogasana coz if we end at cine then can go bathe and hav the steam bath',\n",
              " 'we walked from my moms right on pass right on left on hill address is lt gt',\n",
              " 'if i get there before you after your ten billion calls and texts so help me god',\n",
              " \"haha good to hear i'm paid and on the market for an 8th\",\n",
              " 'babe how goes that day what are you up to i miss you already my love loving kiss i hope everything goes well',\n",
              " 'you have an important customer service announcement from premier',\n",
              " \"i'll pick you up at about 5 to go to taunton if you still want to come\",\n",
              " 'he says hi and to get your ass back to south tampa preferably at a kegger',\n",
              " 's not available',\n",
              " 'hot live fantasies call now 08707509020 just 20p per min ntt ltd po box 1327 croydon cr9 5wb 0870 k',\n",
              " 'now project pa after that only i can come',\n",
              " 'dude while were makin those my sister made awesome cookies i took pics',\n",
              " \"let me know how to contact you i've you settled in a room lets know you are ok\",\n",
              " 'there r many model sony also lt gt it good bt i forgot no',\n",
              " 'o was not into then',\n",
              " 'is there coming friday is leave for pongal do you get any news from your work place',\n",
              " 'win a year supply of cds 4 a store of ur choice worth å£500 enter our å£100 weekly draw txt music to 87066 ts cs www ldew com',\n",
              " 'wake up sweet morning you enjoy this day with full of joy gud mrng',\n",
              " 'well i might not come then',\n",
              " 'does not after lt gt or what',\n",
              " 'yes princess are you going to make me moan',\n",
              " 'where u been stranger',\n",
              " 'goodnight sleep well da please take care pa please',\n",
              " '1 face 2 smiling face 3 waste face 4 innocent face 5 face 6 face 7 romantic face 8 lovable face 9 face lt gt face',\n",
              " 'i notice you like looking in the shit turning into a right freak',\n",
              " 'dear voucher holder to claim this weeks offer at you pc please go to http www e tlp co uk ts cs apply to stop texts txt stop to 80062',\n",
              " 'free for 1st week no1 nokia tone 4 ur mob every week just txt nokia to 8007 get txting and tell ur mates www getzed co uk pobox 36504 w45wq norm150p tone 16',\n",
              " 'i am not sure about night menu i know only about noon menu',\n",
              " 'camera you are awarded a sipix digital camera call 09061221066 fromm landline delivery within 28 days',\n",
              " 'just dropped em off omw back now',\n",
              " 'i know old people my mom was like you better not be then again i am always the one to play jokes',\n",
              " \"sorry my battery died i can come by but i'm only getting a for now where's your place\",\n",
              " 'do we have any spare power',\n",
              " 'what does the dance river do',\n",
              " \"sorry i'm not free\",\n",
              " 'send me the new number',\n",
              " 'are you there in room',\n",
              " 'and of course you should make a',\n",
              " 'xy trying smth now u eat already we havent',\n",
              " 'aiyo please ì got time meh',\n",
              " 'how much i gave to you morning',\n",
              " 'no but the player can',\n",
              " 'oooh i got plenty of those',\n",
              " 'we know someone who you know that fancies you call to find out who pobox 6 ls15hb 150p',\n",
              " \"come around lt decimal gt pm vikky i'm otside nw il come by tht time\",\n",
              " 'ok i also wan 2 watch e 9 pm show',\n",
              " 'nvm take ur time',\n",
              " 'better than bb if he wont use it his wife will or them doctor',\n",
              " 'you you have a great time and see you both soon',\n",
              " 'sir goodmorning once free call me',\n",
              " 'a guy who gets used but is too dumb to realize it',\n",
              " 'o are you takin the bus',\n",
              " 'ok how you dear did you call chechi',\n",
              " 'twenty past five he said will this train have been to already or not coz i am in a',\n",
              " 'yo the game almost over want to go to soon',\n",
              " 'gimme a few was lt gt minutes ago',\n",
              " ...]"
            ]
          },
          "metadata": {
            "tags": []
          },
          "execution_count": 58
        }
      ]
    },
    {
      "cell_type": "code",
      "metadata": {
        "id": "im9atVb8memt",
        "colab_type": "code",
        "colab": {}
      },
      "source": [
        "#Create the model \n",
        "\n",
        "#Set embedding dimention\n",
        "D = 20\n",
        "\n",
        "#Hidden state dimentionality\n",
        "M = 15\n",
        "\n",
        "i = Input(shape=(T,))\n",
        "x = Embedding(V+1, D)(i) #to index, size of array must be '+1'\n",
        "x = LSTM(M, return_sequences=True)(x)\n",
        "x = GlobalMaxPooling1D()(x) #works well for long term dependency\n",
        "x = Dense(1, activation='sigmoid')(x) #spam classification is binary\n",
        "#test using bidirectiona LSTM\n",
        "model = Model(i, x)\n"
      ],
      "execution_count": 52,
      "outputs": []
    },
    {
      "cell_type": "code",
      "metadata": {
        "id": "KsoQDAQzxmOL",
        "colab_type": "code",
        "colab": {
          "base_uri": "https://localhost:8080/",
          "height": 318
        },
        "outputId": "6ba10982-38eb-4f9c-8bf3-51636f8cd2dc"
      },
      "source": [
        "model.summary()"
      ],
      "execution_count": 38,
      "outputs": [
        {
          "output_type": "stream",
          "text": [
            "Model: \"functional_1\"\n",
            "_________________________________________________________________\n",
            "Layer (type)                 Output Shape              Param #   \n",
            "=================================================================\n",
            "input_1 (InputLayer)         [(None, 189)]             0         \n",
            "_________________________________________________________________\n",
            "embedding (Embedding)        (None, 189, 20)           145660    \n",
            "_________________________________________________________________\n",
            "lstm (LSTM)                  (None, 189, 15)           2160      \n",
            "_________________________________________________________________\n",
            "global_max_pooling1d (Global (None, 15)                0         \n",
            "_________________________________________________________________\n",
            "dense (Dense)                (None, 1)                 16        \n",
            "=================================================================\n",
            "Total params: 147,836\n",
            "Trainable params: 147,836\n",
            "Non-trainable params: 0\n",
            "_________________________________________________________________\n"
          ],
          "name": "stdout"
        }
      ]
    },
    {
      "cell_type": "code",
      "metadata": {
        "id": "kfNOh3NuyC7W",
        "colab_type": "code",
        "colab": {
          "base_uri": "https://localhost:8080/",
          "height": 405
        },
        "outputId": "a4fd756a-b342-47e3-9629-961daaf37f18"
      },
      "source": [
        "model.compile(\n",
        "    loss='binary_crossentropy',\n",
        "    optimizer='adam',\n",
        "    metrics=['accuracy']\n",
        ")\n",
        "\n",
        "print('Training model...')\n",
        "r = model.fit(\n",
        "    data_train,\n",
        "    Ytrain,\n",
        "    epochs=10,\n",
        "    validation_data=(data_test, Ytest)\n",
        ")"
      ],
      "execution_count": 42,
      "outputs": [
        {
          "output_type": "stream",
          "text": [
            "Training model...\n",
            "Epoch 1/10\n",
            "117/117 [==============================] - ETA: 0s - loss: 0.4795 - accuracy: 0.8473WARNING:tensorflow:Model was constructed with shape (None, 189) for input Tensor(\"input_1:0\", shape=(None, 189), dtype=float32), but it was called on an input with incompatible shape (None, 98).\n",
            "117/117 [==============================] - 8s 70ms/step - loss: 0.4795 - accuracy: 0.8473 - val_loss: 0.3846 - val_accuracy: 0.8711\n",
            "Epoch 2/10\n",
            "117/117 [==============================] - 8s 66ms/step - loss: 0.3984 - accuracy: 0.8634 - val_loss: 0.3833 - val_accuracy: 0.8711\n",
            "Epoch 3/10\n",
            "117/117 [==============================] - 8s 66ms/step - loss: 0.3964 - accuracy: 0.8634 - val_loss: 0.3803 - val_accuracy: 0.8711\n",
            "Epoch 4/10\n",
            "117/117 [==============================] - 8s 69ms/step - loss: 0.3832 - accuracy: 0.8634 - val_loss: 0.3541 - val_accuracy: 0.8711\n",
            "Epoch 5/10\n",
            "117/117 [==============================] - 8s 71ms/step - loss: 0.2812 - accuracy: 0.8795 - val_loss: 0.1676 - val_accuracy: 0.9706\n",
            "Epoch 6/10\n",
            "117/117 [==============================] - 8s 70ms/step - loss: 0.1018 - accuracy: 0.9879 - val_loss: 0.0839 - val_accuracy: 0.9875\n",
            "Epoch 7/10\n",
            "117/117 [==============================] - 8s 70ms/step - loss: 0.0443 - accuracy: 0.9957 - val_loss: 0.0627 - val_accuracy: 0.9880\n",
            "Epoch 8/10\n",
            "117/117 [==============================] - 8s 70ms/step - loss: 0.0270 - accuracy: 0.9976 - val_loss: 0.0588 - val_accuracy: 0.9886\n",
            "Epoch 9/10\n",
            "117/117 [==============================] - 8s 69ms/step - loss: 0.0173 - accuracy: 0.9984 - val_loss: 0.0561 - val_accuracy: 0.9869\n",
            "Epoch 10/10\n",
            "117/117 [==============================] - 8s 72ms/step - loss: 0.0124 - accuracy: 0.9989 - val_loss: 0.0553 - val_accuracy: 0.9897\n"
          ],
          "name": "stdout"
        }
      ]
    },
    {
      "cell_type": "code",
      "metadata": {
        "id": "pQ2NiJ5o_bNA",
        "colab_type": "code",
        "colab": {
          "base_uri": "https://localhost:8080/",
          "height": 285
        },
        "outputId": "ef19141d-45b7-4ac1-a9f9-0481bceecfda"
      },
      "source": [
        "plt.plot(r.history['loss'], label='loss')\n",
        "plt.plot(r.history['val_loss'], label='val_loss')\n",
        "plt.legend()"
      ],
      "execution_count": 43,
      "outputs": [
        {
          "output_type": "execute_result",
          "data": {
            "text/plain": [
              "<matplotlib.legend.Legend at 0x7f0f78eea630>"
            ]
          },
          "metadata": {
            "tags": []
          },
          "execution_count": 43
        },
        {
          "output_type": "display_data",
          "data": {
            "image/png": "[encoded data removed]",
            "text/plain": [
              "<Figure size 432x288 with 1 Axes>"
            ]
          },
          "metadata": {
            "tags": [],
            "needs_background": "light"
          }
        }
      ]
    },
    {
      "cell_type": "code",
      "metadata": {
        "id": "xgtYha9j_4DV",
        "colab_type": "code",
        "colab": {
          "base_uri": "https://localhost:8080/",
          "height": 281
        },
        "outputId": "17c304ad-d7d9-4a70-b318-16939e2a3abb"
      },
      "source": [
        "plt.plot(r.history['accuracy'], label='acc')\n",
        "plt.plot(r.history['val_accuracy'], label='val_acc')\n",
        "plt.legend()"
      ],
      "execution_count": 45,
      "outputs": [
        {
          "output_type": "execute_result",
          "data": {
            "text/plain": [
              "<matplotlib.legend.Legend at 0x7f0f789c96a0>"
            ]
          },
          "metadata": {
            "tags": []
          },
          "execution_count": 45
        },
        {
          "output_type": "display_data",
          "data": {
            "image/png": "[encoded data removed]",
            "text/plain": [
              "<Figure size 432x288 with 1 Axes>"
            ]
          },
          "metadata": {
            "tags": [],
            "needs_background": "light"
          }
        }
      ]
    },
    {
      "cell_type": "code",
      "metadata": {
        "id": "WQ_Lxu311ZGm",
        "colab_type": "code",
        "colab": {
          "base_uri": "https://localhost:8080/",
          "height": 150
        },
        "outputId": "8fe66cc3-597e-481d-9dc0-c5f30acd0723"
      },
      "source": [
        "data_test[0]"
      ],
      "execution_count": 47,
      "outputs": [
        {
          "output_type": "execute_result",
          "data": {
            "text/plain": [
              "array([  0,   0,   0,   0,   0,   0,   0,   0,   0,   0,   0,   0,   0,\n",
              "         0,   0,   0,   0,   0,   0,   0,   0,   0,   0,   0,   0,   0,\n",
              "         0,   0,   0,   0,   0,   0,   0,   0,   0,   0,   0,   0,   0,\n",
              "         0,   0,   0,   0,   0,   0,   0,   0,   0,   0,   0,   0,   0,\n",
              "         0,   0,   0,   0,   0,   0,   0,   0,   0,   0,   0,   0,   0,\n",
              "         0,   0,   0,   0,   0,   0,   0,   0,   0,   0,   0,   0,   0,\n",
              "         0,   0,   0,   0,   0,   0,   0,   0,   0,   3,  16, 127,   7,\n",
              "       112,  22,  15, 147,  16, 127,  22], dtype=int32)"
            ]
          },
          "metadata": {
            "tags": []
          },
          "execution_count": 47
        }
      ]
    },
    {
      "cell_type": "code",
      "metadata": {
        "id": "P7YmL45l1UFe",
        "colab_type": "code",
        "colab": {}
      },
      "source": [
        "model.predict()"
      ],
      "execution_count": null,
      "outputs": []
    }
  ]
}